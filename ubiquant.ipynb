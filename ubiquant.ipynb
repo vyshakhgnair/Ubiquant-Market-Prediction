{
 "cells": [
  {
   "cell_type": "code",
   "execution_count": 1,
   "id": "9194b235",
   "metadata": {
    "_cell_guid": "b1076dfc-b9ad-4769-8c92-a6c4dae69d19",
    "_uuid": "8f2839f25d086af736a60e9eeb907d3b93b6e0e5",
    "execution": {
     "iopub.execute_input": "2022-02-02T09:23:18.964007Z",
     "iopub.status.busy": "2022-02-02T09:23:18.962455Z",
     "iopub.status.idle": "2022-02-02T09:23:19.967382Z",
     "shell.execute_reply": "2022-02-02T09:23:19.968420Z",
     "shell.execute_reply.started": "2022-02-02T09:11:02.213452Z"
    },
    "papermill": {
     "duration": 1.018034,
     "end_time": "2022-02-02T09:23:19.968774",
     "exception": false,
     "start_time": "2022-02-02T09:23:18.950740",
     "status": "completed"
    },
    "tags": []
   },
   "outputs": [
    {
     "name": "stdout",
     "output_type": "stream",
     "text": [
      "/kaggle/input/ubiquant-market-prediction/example_sample_submission.csv\n",
      "/kaggle/input/ubiquant-market-prediction/example_test.csv\n",
      "/kaggle/input/ubiquant-market-prediction/train.csv\n",
      "/kaggle/input/ubiquant-market-prediction/ubiquant/competition.cpython-37m-x86_64-linux-gnu.so\n",
      "/kaggle/input/ubiquant-market-prediction/ubiquant/__init__.py\n"
     ]
    }
   ],
   "source": [
    "# This Python 3 environment comes with many helpful analytics libraries installed\n",
    "# It is defined by the kaggle/python Docker image: https://github.com/kaggle/docker-python\n",
    "# For example, here's several helpful packages to load\n",
    "%config Completer.use_jedi = False\n",
    "import numpy as np # linear algebra\n",
    "import pandas as pd # data processing, CSV file I/O (e.g. pd.read_csv)\n",
    "\n",
    "\n",
    "\n",
    "\n",
    "#ploting imports\n",
    "import matplotlib.pyplot as plt\n",
    "import xgboost as xgb\n",
    "from sklearn.metrics import mean_squared_error\n",
    "# Input data files are available in the read-only \"../input/\" directory\n",
    "# For example, running this (by clicking run or pressing Shift+Enter) will list all files under the input directory\n",
    "\n",
    "import os\n",
    "for dirname, _, filenames in os.walk('/kaggle/input'):\n",
    "    for filename in filenames:\n",
    "        print(os.path.join(dirname, filename))\n",
    "\n",
    "# You can write up to 20GB to the current directory (/kaggle/working/) that gets preserved as output when you create a version using \"Save & Run All\" \n",
    "# You can also write temporary files to /kaggle/temp/, but they won't be saved outside of the current session"
   ]
  },
  {
   "cell_type": "code",
   "execution_count": 2,
   "id": "dd53e728",
   "metadata": {
    "execution": {
     "iopub.execute_input": "2022-02-02T09:23:20.002028Z",
     "iopub.status.busy": "2022-02-02T09:23:20.001220Z",
     "iopub.status.idle": "2022-02-02T09:23:20.003180Z",
     "shell.execute_reply": "2022-02-02T09:23:20.003581Z",
     "shell.execute_reply.started": "2022-02-02T09:11:02.901519Z"
    },
    "papermill": {
     "duration": 0.021276,
     "end_time": "2022-02-02T09:23:20.003717",
     "exception": false,
     "start_time": "2022-02-02T09:23:19.982441",
     "status": "completed"
    },
    "tags": []
   },
   "outputs": [],
   "source": [
    "#column reduction\n",
    "basic_cols=['target']\n",
    "test_cols=['row_id','investment_id']\n",
    "\n",
    "num_feat=50\n",
    "features=[f'f_{i}' for i in range(num_feat)]\n",
    "cols=basic_cols+features\n",
    "train_cols=test_cols+test_cols\n"
   ]
  },
  {
   "cell_type": "code",
   "execution_count": 3,
   "id": "09a032e4",
   "metadata": {
    "execution": {
     "iopub.execute_input": "2022-02-02T09:23:20.025353Z",
     "iopub.status.busy": "2022-02-02T09:23:20.024690Z",
     "iopub.status.idle": "2022-02-02T09:27:48.337119Z",
     "shell.execute_reply": "2022-02-02T09:27:48.337780Z",
     "shell.execute_reply.started": "2022-02-02T09:11:02.911498Z"
    },
    "papermill": {
     "duration": 268.326081,
     "end_time": "2022-02-02T09:27:48.337987",
     "exception": false,
     "start_time": "2022-02-02T09:23:20.011906",
     "status": "completed"
    },
    "tags": []
   },
   "outputs": [
    {
     "name": "stdout",
     "output_type": "stream",
     "text": [
      "data is loaded!!!!\n"
     ]
    }
   ],
   "source": [
    "#load data\n",
    "train=pd.read_csv('../input/ubiquant-market-prediction/train.csv',usecols=cols)\n",
    "test_df=pd.read_csv(\"../input/ubiquant-market-prediction/example_test.csv\",usecols=features)\n",
    "sample_prediction_df=pd.read_csv('../input/ubiquant-market-prediction/example_sample_submission.csv')\n",
    "print(\"data is loaded!!!!\")"
   ]
  },
  {
   "cell_type": "code",
   "execution_count": 4,
   "id": "1d32d601",
   "metadata": {
    "execution": {
     "iopub.execute_input": "2022-02-02T09:27:48.360495Z",
     "iopub.status.busy": "2022-02-02T09:27:48.359754Z",
     "iopub.status.idle": "2022-02-02T09:27:48.362871Z",
     "shell.execute_reply": "2022-02-02T09:27:48.363444Z",
     "shell.execute_reply.started": "2022-02-02T09:21:46.120576Z"
    },
    "papermill": {
     "duration": 0.016257,
     "end_time": "2022-02-02T09:27:48.363614",
     "exception": false,
     "start_time": "2022-02-02T09:27:48.347357",
     "status": "completed"
    },
    "tags": []
   },
   "outputs": [
    {
     "name": "stdout",
     "output_type": "stream",
     "text": [
      "train shape is (3141410, 51)\n",
      "example_test shape is(9, 50)\n",
      "example_sample_submission shape is(9, 3)\n"
     ]
    }
   ],
   "source": [
    "print(\"train shape is {}\".format(train.shape))\n",
    "print(\"example_test shape is{}\".format(test_df.shape))\n",
    "print(\"example_sample_submission shape is{}\".format(sample_prediction_df.shape))"
   ]
  },
  {
   "cell_type": "code",
   "execution_count": 5,
   "id": "714d5fa8",
   "metadata": {
    "execution": {
     "iopub.execute_input": "2022-02-02T09:27:48.393222Z",
     "iopub.status.busy": "2022-02-02T09:27:48.392477Z",
     "iopub.status.idle": "2022-02-02T09:27:48.414740Z",
     "shell.execute_reply": "2022-02-02T09:27:48.415166Z",
     "shell.execute_reply.started": "2022-02-02T09:21:48.637912Z"
    },
    "papermill": {
     "duration": 0.042218,
     "end_time": "2022-02-02T09:27:48.415290",
     "exception": false,
     "start_time": "2022-02-02T09:27:48.373072",
     "status": "completed"
    },
    "tags": []
   },
   "outputs": [
    {
     "data": {
      "text/html": [
       "<div>\n",
       "<style scoped>\n",
       "    .dataframe tbody tr th:only-of-type {\n",
       "        vertical-align: middle;\n",
       "    }\n",
       "\n",
       "    .dataframe tbody tr th {\n",
       "        vertical-align: top;\n",
       "    }\n",
       "\n",
       "    .dataframe thead th {\n",
       "        text-align: right;\n",
       "    }\n",
       "</style>\n",
       "<table border=\"1\" class=\"dataframe\">\n",
       "  <thead>\n",
       "    <tr style=\"text-align: right;\">\n",
       "      <th></th>\n",
       "      <th>target</th>\n",
       "      <th>f_0</th>\n",
       "      <th>f_1</th>\n",
       "      <th>f_2</th>\n",
       "      <th>f_3</th>\n",
       "      <th>f_4</th>\n",
       "      <th>f_5</th>\n",
       "      <th>f_6</th>\n",
       "      <th>f_7</th>\n",
       "      <th>f_8</th>\n",
       "      <th>...</th>\n",
       "      <th>f_40</th>\n",
       "      <th>f_41</th>\n",
       "      <th>f_42</th>\n",
       "      <th>f_43</th>\n",
       "      <th>f_44</th>\n",
       "      <th>f_45</th>\n",
       "      <th>f_46</th>\n",
       "      <th>f_47</th>\n",
       "      <th>f_48</th>\n",
       "      <th>f_49</th>\n",
       "    </tr>\n",
       "  </thead>\n",
       "  <tbody>\n",
       "    <tr>\n",
       "      <th>0</th>\n",
       "      <td>-0.300875</td>\n",
       "      <td>0.932573</td>\n",
       "      <td>0.113691</td>\n",
       "      <td>-0.402206</td>\n",
       "      <td>0.378386</td>\n",
       "      <td>-0.203938</td>\n",
       "      <td>-0.413469</td>\n",
       "      <td>0.965623</td>\n",
       "      <td>1.230508</td>\n",
       "      <td>0.114809</td>\n",
       "      <td>...</td>\n",
       "      <td>0.685313</td>\n",
       "      <td>0.000000</td>\n",
       "      <td>0.414692</td>\n",
       "      <td>-0.469456</td>\n",
       "      <td>-1.085879</td>\n",
       "      <td>-0.106443</td>\n",
       "      <td>0.059437</td>\n",
       "      <td>0.483066</td>\n",
       "      <td>1.189394</td>\n",
       "      <td>0.506955</td>\n",
       "    </tr>\n",
       "    <tr>\n",
       "      <th>1</th>\n",
       "      <td>-0.231040</td>\n",
       "      <td>0.810802</td>\n",
       "      <td>-0.514115</td>\n",
       "      <td>0.742368</td>\n",
       "      <td>-0.616673</td>\n",
       "      <td>-0.194255</td>\n",
       "      <td>1.771210</td>\n",
       "      <td>1.428127</td>\n",
       "      <td>1.134144</td>\n",
       "      <td>0.114809</td>\n",
       "      <td>...</td>\n",
       "      <td>-0.769290</td>\n",
       "      <td>0.999783</td>\n",
       "      <td>-0.516697</td>\n",
       "      <td>-1.307427</td>\n",
       "      <td>-0.092398</td>\n",
       "      <td>0.971346</td>\n",
       "      <td>-0.069336</td>\n",
       "      <td>-0.963241</td>\n",
       "      <td>-0.840763</td>\n",
       "      <td>0.438878</td>\n",
       "    </tr>\n",
       "    <tr>\n",
       "      <th>2</th>\n",
       "      <td>0.568807</td>\n",
       "      <td>0.393974</td>\n",
       "      <td>0.615937</td>\n",
       "      <td>0.567806</td>\n",
       "      <td>-0.607963</td>\n",
       "      <td>0.068883</td>\n",
       "      <td>-1.083155</td>\n",
       "      <td>0.979656</td>\n",
       "      <td>-1.125681</td>\n",
       "      <td>0.114809</td>\n",
       "      <td>...</td>\n",
       "      <td>0.829339</td>\n",
       "      <td>0.000000</td>\n",
       "      <td>-0.253076</td>\n",
       "      <td>-0.235440</td>\n",
       "      <td>0.501015</td>\n",
       "      <td>-0.655942</td>\n",
       "      <td>-0.750996</td>\n",
       "      <td>0.663882</td>\n",
       "      <td>1.189394</td>\n",
       "      <td>1.087821</td>\n",
       "    </tr>\n",
       "    <tr>\n",
       "      <th>3</th>\n",
       "      <td>-1.064780</td>\n",
       "      <td>-2.343535</td>\n",
       "      <td>-0.011870</td>\n",
       "      <td>1.874606</td>\n",
       "      <td>-0.606346</td>\n",
       "      <td>-0.586827</td>\n",
       "      <td>-0.815737</td>\n",
       "      <td>0.778096</td>\n",
       "      <td>0.298990</td>\n",
       "      <td>0.114809</td>\n",
       "      <td>...</td>\n",
       "      <td>-0.306135</td>\n",
       "      <td>0.000000</td>\n",
       "      <td>-0.680579</td>\n",
       "      <td>-1.657749</td>\n",
       "      <td>1.000976</td>\n",
       "      <td>-0.361122</td>\n",
       "      <td>-1.085527</td>\n",
       "      <td>-1.009016</td>\n",
       "      <td>1.189394</td>\n",
       "      <td>-1.285510</td>\n",
       "    </tr>\n",
       "    <tr>\n",
       "      <th>4</th>\n",
       "      <td>-0.531940</td>\n",
       "      <td>0.842057</td>\n",
       "      <td>-0.262993</td>\n",
       "      <td>2.330030</td>\n",
       "      <td>-0.583422</td>\n",
       "      <td>-0.618392</td>\n",
       "      <td>-0.742814</td>\n",
       "      <td>-0.946789</td>\n",
       "      <td>1.230508</td>\n",
       "      <td>0.114809</td>\n",
       "      <td>...</td>\n",
       "      <td>-0.278047</td>\n",
       "      <td>-1.999567</td>\n",
       "      <td>-0.327945</td>\n",
       "      <td>0.957057</td>\n",
       "      <td>-0.331749</td>\n",
       "      <td>-0.538284</td>\n",
       "      <td>-0.212107</td>\n",
       "      <td>-0.999430</td>\n",
       "      <td>-0.840763</td>\n",
       "      <td>-1.991668</td>\n",
       "    </tr>\n",
       "  </tbody>\n",
       "</table>\n",
       "<p>5 rows × 51 columns</p>\n",
       "</div>"
      ],
      "text/plain": [
       "     target       f_0       f_1       f_2       f_3       f_4       f_5  \\\n",
       "0 -0.300875  0.932573  0.113691 -0.402206  0.378386 -0.203938 -0.413469   \n",
       "1 -0.231040  0.810802 -0.514115  0.742368 -0.616673 -0.194255  1.771210   \n",
       "2  0.568807  0.393974  0.615937  0.567806 -0.607963  0.068883 -1.083155   \n",
       "3 -1.064780 -2.343535 -0.011870  1.874606 -0.606346 -0.586827 -0.815737   \n",
       "4 -0.531940  0.842057 -0.262993  2.330030 -0.583422 -0.618392 -0.742814   \n",
       "\n",
       "        f_6       f_7       f_8  ...      f_40      f_41      f_42      f_43  \\\n",
       "0  0.965623  1.230508  0.114809  ...  0.685313  0.000000  0.414692 -0.469456   \n",
       "1  1.428127  1.134144  0.114809  ... -0.769290  0.999783 -0.516697 -1.307427   \n",
       "2  0.979656 -1.125681  0.114809  ...  0.829339  0.000000 -0.253076 -0.235440   \n",
       "3  0.778096  0.298990  0.114809  ... -0.306135  0.000000 -0.680579 -1.657749   \n",
       "4 -0.946789  1.230508  0.114809  ... -0.278047 -1.999567 -0.327945  0.957057   \n",
       "\n",
       "       f_44      f_45      f_46      f_47      f_48      f_49  \n",
       "0 -1.085879 -0.106443  0.059437  0.483066  1.189394  0.506955  \n",
       "1 -0.092398  0.971346 -0.069336 -0.963241 -0.840763  0.438878  \n",
       "2  0.501015 -0.655942 -0.750996  0.663882  1.189394  1.087821  \n",
       "3  1.000976 -0.361122 -1.085527 -1.009016  1.189394 -1.285510  \n",
       "4 -0.331749 -0.538284 -0.212107 -0.999430 -0.840763 -1.991668  \n",
       "\n",
       "[5 rows x 51 columns]"
      ]
     },
     "execution_count": 5,
     "metadata": {},
     "output_type": "execute_result"
    }
   ],
   "source": [
    "train.head()"
   ]
  },
  {
   "cell_type": "code",
   "execution_count": 6,
   "id": "1b0e95f7",
   "metadata": {
    "execution": {
     "iopub.execute_input": "2022-02-02T09:27:48.437741Z",
     "iopub.status.busy": "2022-02-02T09:27:48.436887Z",
     "iopub.status.idle": "2022-02-02T09:27:48.761912Z",
     "shell.execute_reply": "2022-02-02T09:27:48.761425Z",
     "shell.execute_reply.started": "2022-02-02T09:21:51.357918Z"
    },
    "papermill": {
     "duration": 0.337766,
     "end_time": "2022-02-02T09:27:48.762043",
     "exception": false,
     "start_time": "2022-02-02T09:27:48.424277",
     "status": "completed"
    },
    "tags": []
   },
   "outputs": [
    {
     "name": "stdout",
     "output_type": "stream",
     "text": [
      "target    0\n",
      "f_0       0\n",
      "f_1       0\n",
      "f_2       0\n",
      "f_3       0\n",
      "f_4       0\n",
      "f_5       0\n",
      "f_6       0\n",
      "f_7       0\n",
      "f_8       0\n",
      "f_9       0\n",
      "f_10      0\n",
      "f_11      0\n",
      "f_12      0\n",
      "f_13      0\n",
      "f_14      0\n",
      "f_15      0\n",
      "f_16      0\n",
      "f_17      0\n",
      "f_18      0\n",
      "f_19      0\n",
      "f_20      0\n",
      "f_21      0\n",
      "f_22      0\n",
      "f_23      0\n",
      "f_24      0\n",
      "f_25      0\n",
      "f_26      0\n",
      "f_27      0\n",
      "f_28      0\n",
      "f_29      0\n",
      "f_30      0\n",
      "f_31      0\n",
      "f_32      0\n",
      "f_33      0\n",
      "f_34      0\n",
      "f_35      0\n",
      "f_36      0\n",
      "f_37      0\n",
      "f_38      0\n",
      "f_39      0\n",
      "f_40      0\n",
      "f_41      0\n",
      "f_42      0\n",
      "f_43      0\n",
      "f_44      0\n",
      "f_45      0\n",
      "f_46      0\n",
      "f_47      0\n",
      "f_48      0\n",
      "f_49      0\n",
      "dtype: int64\n",
      "% of missing data= 0.0\n"
     ]
    }
   ],
   "source": [
    "#missing value count\n",
    "missing_value=train.isnull().sum()\n",
    "print(missing_value)\n",
    "total_cells=np.product(train.shape)\n",
    "total_missing=missing_value.sum()\n",
    "print(\"% of missing data=\",(total_missing/total_cells))"
   ]
  },
  {
   "cell_type": "code",
   "execution_count": 7,
   "id": "478bd5db",
   "metadata": {
    "execution": {
     "iopub.execute_input": "2022-02-02T09:27:49.431475Z",
     "iopub.status.busy": "2022-02-02T09:27:49.430525Z",
     "iopub.status.idle": "2022-02-02T09:27:49.433111Z",
     "shell.execute_reply": "2022-02-02T09:27:49.432701Z",
     "shell.execute_reply.started": "2022-02-02T09:21:55.284636Z"
    },
    "papermill": {
     "duration": 0.661549,
     "end_time": "2022-02-02T09:27:49.433240",
     "exception": false,
     "start_time": "2022-02-02T09:27:48.771691",
     "status": "completed"
    },
    "tags": []
   },
   "outputs": [],
   "source": [
    "X_train=train.loc[:, features]\n",
    "y_train=train.loc[:, 'target']"
   ]
  },
  {
   "cell_type": "code",
   "execution_count": 8,
   "id": "de862469",
   "metadata": {
    "execution": {
     "iopub.execute_input": "2022-02-02T09:27:49.456874Z",
     "iopub.status.busy": "2022-02-02T09:27:49.456176Z",
     "iopub.status.idle": "2022-02-02T09:27:52.185156Z",
     "shell.execute_reply": "2022-02-02T09:27:52.184603Z",
     "shell.execute_reply.started": "2022-02-02T09:21:58.586049Z"
    },
    "papermill": {
     "duration": 2.74251,
     "end_time": "2022-02-02T09:27:52.185294",
     "exception": false,
     "start_time": "2022-02-02T09:27:49.442784",
     "status": "completed"
    },
    "tags": []
   },
   "outputs": [],
   "source": [
    "from sklearn.model_selection import train_test_split\n",
    "X_train,X_test,y_train,y_test=train_test_split(X_train,y_train,test_size=0.1,random_state=0)\n"
   ]
  },
  {
   "cell_type": "code",
   "execution_count": 9,
   "id": "0da66595",
   "metadata": {
    "execution": {
     "iopub.execute_input": "2022-02-02T09:27:52.210226Z",
     "iopub.status.busy": "2022-02-02T09:27:52.209584Z",
     "iopub.status.idle": "2022-02-02T09:28:01.071481Z",
     "shell.execute_reply": "2022-02-02T09:28:01.072193Z",
     "shell.execute_reply.started": "2022-02-02T09:22:04.938710Z"
    },
    "papermill": {
     "duration": 8.87728,
     "end_time": "2022-02-02T09:28:01.072355",
     "exception": false,
     "start_time": "2022-02-02T09:27:52.195075",
     "status": "completed"
    },
    "tags": []
   },
   "outputs": [
    {
     "name": "stdout",
     "output_type": "stream",
     "text": [
      "[09:27:59] WARNING: ../src/learner.cc:576: \n",
      "Parameters: { \"feature_fraction\", \"num_leaves\", \"tree_learner\" } might not be used.\n",
      "\n",
      "  This could be a false alarm, with some parameters getting used by language bindings but\n",
      "  then being mistakenly passed down to XGBoost core, or some parameter actually being used\n",
      "  but getting flagged wrongly here. Please open an issue if you find any such cases.\n",
      "\n",
      "\n",
      "[0]\tvalidation_0-rmse:1.05763\n",
      "[1]\tvalidation_0-rmse:1.05763\n",
      "[2]\tvalidation_0-rmse:1.05763\n",
      "[3]\tvalidation_0-rmse:1.05763\n",
      "[4]\tvalidation_0-rmse:1.05763\n",
      "[5]\tvalidation_0-rmse:1.05763\n",
      "[6]\tvalidation_0-rmse:1.05763\n"
     ]
    },
    {
     "data": {
      "text/plain": [
       "XGBRegressor(base_score=0.5, booster='gbtree', colsample_bylevel=1,\n",
       "             colsample_bynode=1, colsample_bytree=1, enable_categorical=False,\n",
       "             feature_fraction=0.6, gamma=0, gpu_id=0, importance_type=None,\n",
       "             interaction_constraints='', learning_rate=0.1, max_delta_step=0,\n",
       "             max_depth=8, min_child_weight=1, missing=nan,\n",
       "             monotone_constraints='()', n_estimators=1000, n_jobs=2,\n",
       "             num_leaves=64, num_parallel_tree=1, predictor='auto',\n",
       "             random_state=2022, reg_alpha=0.1, reg_lambda=0.1,\n",
       "             scale_pos_weight=1, subsample=0, tree_learner='serial',\n",
       "             tree_method='gpu_hist', validate_parameters=1, ...)"
      ]
     },
     "execution_count": 9,
     "metadata": {},
     "output_type": "execute_result"
    }
   ],
   "source": [
    "regressor=xgb.XGBRegressor(\n",
    "    tree_learner='serial',\n",
    "    n_estimators=1000,\n",
    "    num_leaves=64,\n",
    "    max_depth=8,\n",
    "    learning_rate=0.1,\n",
    "    feature_fraction=0.6,\n",
    "    subsample=0,\n",
    "    reg_alpha=0.1,\n",
    "    reg_lambda=0.1,\n",
    "    random_state=2022,\n",
    "    tree_method='gpu_hist')\n",
    "regressor.fit(X_train, y_train, early_stopping_rounds=6, eval_set=[(X_test, y_test)], verbose=1)\n"
   ]
  },
  {
   "cell_type": "code",
   "execution_count": 10,
   "id": "3c1b98b3",
   "metadata": {
    "execution": {
     "iopub.execute_input": "2022-02-02T09:28:01.101800Z",
     "iopub.status.busy": "2022-02-02T09:28:01.101230Z",
     "iopub.status.idle": "2022-02-02T09:28:01.180466Z",
     "shell.execute_reply": "2022-02-02T09:28:01.181408Z",
     "shell.execute_reply.started": "2022-02-02T09:22:20.750059Z"
    },
    "papermill": {
     "duration": 0.097012,
     "end_time": "2022-02-02T09:28:01.181588",
     "exception": false,
     "start_time": "2022-02-02T09:28:01.084576",
     "status": "completed"
    },
    "tags": []
   },
   "outputs": [
    {
     "name": "stdout",
     "output_type": "stream",
     "text": [
      "This version of the API is not optimized and should not be used to estimate the runtime of your code on the hidden test set.\n"
     ]
    }
   ],
   "source": [
    "import ubiquant\n",
    "env = ubiquant.make_env()\n",
    "iter_test = env.iter_test()\n",
    "for (test_df, sample_prediction_df) in iter_test:\n",
    "    preds = regressor.predict(test_df[features].values)\n",
    "    sample_prediction_df['target'] = preds\n",
    "    env.predict(sample_prediction_df)"
   ]
  }
 ],
 "metadata": {
  "kernelspec": {
   "display_name": "Python 3",
   "language": "python",
   "name": "python3"
  },
  "language_info": {
   "codemirror_mode": {
    "name": "ipython",
    "version": 3
   },
   "file_extension": ".py",
   "mimetype": "text/x-python",
   "name": "python",
   "nbconvert_exporter": "python",
   "pygments_lexer": "ipython3",
   "version": "3.7.12"
  },
  "papermill": {
   "default_parameters": {},
   "duration": 292.482975,
   "end_time": "2022-02-02T09:28:03.399250",
   "environment_variables": {},
   "exception": null,
   "input_path": "__notebook__.ipynb",
   "output_path": "__notebook__.ipynb",
   "parameters": {},
   "start_time": "2022-02-02T09:23:10.916275",
   "version": "2.3.3"
  }
 },
 "nbformat": 4,
 "nbformat_minor": 5
}
