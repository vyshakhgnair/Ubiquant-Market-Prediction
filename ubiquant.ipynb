{
 "cells": [
  {
   "cell_type": "code",
   "execution_count": 1,
   "id": "83b6548a",
   "metadata": {
    "_cell_guid": "b1076dfc-b9ad-4769-8c92-a6c4dae69d19",
    "_uuid": "8f2839f25d086af736a60e9eeb907d3b93b6e0e5",
    "execution": {
     "iopub.execute_input": "2022-02-02T13:28:20.613101Z",
     "iopub.status.busy": "2022-02-02T13:28:20.612296Z",
     "iopub.status.idle": "2022-02-02T13:28:25.256478Z",
     "shell.execute_reply": "2022-02-02T13:28:25.255880Z",
     "shell.execute_reply.started": "2022-02-02T12:54:18.643758Z"
    },
    "papermill": {
     "duration": 4.677926,
     "end_time": "2022-02-02T13:28:25.256653",
     "exception": false,
     "start_time": "2022-02-02T13:28:20.578727",
     "status": "completed"
    },
    "tags": []
   },
   "outputs": [
    {
     "name": "stderr",
     "output_type": "stream",
     "text": [
      "/opt/conda/lib/python3.7/site-packages/geopandas/_compat.py:115: UserWarning:\n",
      "\n",
      "The Shapely GEOS version (3.9.1-CAPI-1.14.2) is incompatible with the GEOS version PyGEOS was compiled with (3.10.1-CAPI-1.16.0). Conversions between both will be slow.\n",
      "\n"
     ]
    },
    {
     "data": {
      "text/html": [
       "<style type='text/css'>\n",
       ".datatable table.frame { margin-bottom: 0; }\n",
       ".datatable table.frame thead { border-bottom: none; }\n",
       ".datatable table.frame tr.coltypes td {  color: #FFFFFF;  line-height: 6px;  padding: 0 0.5em;}\n",
       ".datatable .bool    { background: #DDDD99; }\n",
       ".datatable .object  { background: #565656; }\n",
       ".datatable .int     { background: #5D9E5D; }\n",
       ".datatable .float   { background: #4040CC; }\n",
       ".datatable .str     { background: #CC4040; }\n",
       ".datatable .time    { background: #40CC40; }\n",
       ".datatable .row_index {  background: var(--jp-border-color3);  border-right: 1px solid var(--jp-border-color0);  color: var(--jp-ui-font-color3);  font-size: 9px;}\n",
       ".datatable .frame tbody td { text-align: left; }\n",
       ".datatable .frame tr.coltypes .row_index {  background: var(--jp-border-color0);}\n",
       ".datatable th:nth-child(2) { padding-left: 12px; }\n",
       ".datatable .hellipsis {  color: var(--jp-cell-editor-border-color);}\n",
       ".datatable .vellipsis {  background: var(--jp-layout-color0);  color: var(--jp-cell-editor-border-color);}\n",
       ".datatable .na {  color: var(--jp-cell-editor-border-color);  font-size: 80%;}\n",
       ".datatable .sp {  opacity: 0.25;}\n",
       ".datatable .footer { font-size: 9px; }\n",
       ".datatable .frame_dimensions {  background: var(--jp-border-color3);  border-top: 1px solid var(--jp-border-color0);  color: var(--jp-ui-font-color3);  display: inline-block;  opacity: 0.6;  padding: 1px 10px 1px 5px;}\n",
       "</style>\n"
      ],
      "text/plain": [
       "<IPython.core.display.HTML object>"
      ]
     },
     "metadata": {},
     "output_type": "display_data"
    },
    {
     "name": "stdout",
     "output_type": "stream",
     "text": [
      "/kaggle/input/ubiquant-market-prediction/example_sample_submission.csv\n",
      "/kaggle/input/ubiquant-market-prediction/example_test.csv\n",
      "/kaggle/input/ubiquant-market-prediction/train.csv\n",
      "/kaggle/input/ubiquant-market-prediction/ubiquant/competition.cpython-37m-x86_64-linux-gnu.so\n",
      "/kaggle/input/ubiquant-market-prediction/ubiquant/__init__.py\n"
     ]
    }
   ],
   "source": [
    "\n",
    "%config Completer.use_jedi = False\n",
    "import numpy as np # linear algebra\n",
    "import pandas as pd # data processing, CSV file I/O (e.g. pd.read_csv)\n",
    "pd.set_option('display.max_columns', 500)\n",
    "\n",
    "\n",
    "# Standard plotly imports\n",
    "import plotly as py\n",
    "import plotly.graph_objs as go\n",
    "import plotly.tools as tls\n",
    "from plotly.offline import iplot, init_notebook_mode\n",
    "import cufflinks\n",
    "import cufflinks as cf\n",
    "import plotly.figure_factory as ff\n",
    "from sklearn import preprocessing\n",
    "import xgboost as xgb\n",
    "from sklearn.metrics import mean_squared_error\n",
    "import warnings\n",
    "warnings.filterwarnings(\"ignore\")\n",
    "import numpy as np # linear algebra\n",
    "import pandas as pd # data processing, CSV file I/O (e.g. pd.read_csv)\n",
    "from catboost import CatBoostRegressor\n",
    "\n",
    "\n",
    "\n",
    "\n",
    "#ploting imports\n",
    "import matplotlib.pyplot as plt\n",
    "import xgboost as xgb\n",
    "import lightgbm as lgb\n",
    "from sklearn.metrics import mean_squared_error\n",
    "# Input data files are available in the read-only \"../input/\" directory\n",
    "# For example, running this (by clicking run or pressing Shift+Enter) will list all files under the input directory\n",
    "\n",
    "import os\n",
    "for dirname, _, filenames in os.walk('/kaggle/input'):\n",
    "    for filename in filenames:\n",
    "        print(os.path.join(dirname, filename))\n",
    "\n",
    "# You can write up to 20GB to the current directory (/kaggle/working/) that gets preserved as output when you create a version using \"Save & Run All\" \n",
    "# You can also write temporary files to /kaggle/temp/, but they won't be saved outside of the current session"
   ]
  },
  {
   "cell_type": "code",
   "execution_count": 2,
   "id": "7bec9752",
   "metadata": {
    "execution": {
     "iopub.execute_input": "2022-02-02T13:28:25.282613Z",
     "iopub.status.busy": "2022-02-02T13:28:25.281906Z",
     "iopub.status.idle": "2022-02-02T13:28:25.284909Z",
     "shell.execute_reply": "2022-02-02T13:28:25.285598Z",
     "shell.execute_reply.started": "2022-02-02T12:54:59.971689Z"
    },
    "papermill": {
     "duration": 0.018036,
     "end_time": "2022-02-02T13:28:25.285764",
     "exception": false,
     "start_time": "2022-02-02T13:28:25.267728",
     "status": "completed"
    },
    "tags": []
   },
   "outputs": [
    {
     "name": "stdout",
     "output_type": "stream",
     "text": [
      "XGBoost version: 1.5.2\n"
     ]
    }
   ],
   "source": [
    "print(\"XGBoost version:\", xgb.__version__)"
   ]
  },
  {
   "cell_type": "code",
   "execution_count": 3,
   "id": "66a2d96e",
   "metadata": {
    "execution": {
     "iopub.execute_input": "2022-02-02T13:28:25.313670Z",
     "iopub.status.busy": "2022-02-02T13:28:25.313145Z",
     "iopub.status.idle": "2022-02-02T13:28:25.321980Z",
     "shell.execute_reply": "2022-02-02T13:28:25.321543Z",
     "shell.execute_reply.started": "2022-02-02T12:55:01.953898Z"
    },
    "papermill": {
     "duration": 0.024447,
     "end_time": "2022-02-02T13:28:25.322084",
     "exception": false,
     "start_time": "2022-02-02T13:28:25.297637",
     "status": "completed"
    },
    "tags": []
   },
   "outputs": [
    {
     "name": "stdout",
     "output_type": "stream",
     "text": [
      "Directory size: 18546.99MB\n"
     ]
    }
   ],
   "source": [
    "# print('# File sizes')\n",
    "total_size = 0\n",
    "start_path = '../input/ubiquant-market-prediction'  # To get size of current directory\n",
    "for path, dirs, files in os.walk(start_path):\n",
    "    for f in files:\n",
    "        fp = os.path.join(path, f)\n",
    "        total_size += os.path.getsize(fp)\n",
    "print(\"Directory size: \" + str(round(total_size/ 1000000, 2)) + 'MB')"
   ]
  },
  {
   "cell_type": "code",
   "execution_count": 4,
   "id": "d851eceb",
   "metadata": {
    "execution": {
     "iopub.execute_input": "2022-02-02T13:28:25.350429Z",
     "iopub.status.busy": "2022-02-02T13:28:25.349751Z",
     "iopub.status.idle": "2022-02-02T13:33:12.259919Z",
     "shell.execute_reply": "2022-02-02T13:33:12.260409Z",
     "shell.execute_reply.started": "2022-02-02T12:55:08.990646Z"
    },
    "papermill": {
     "duration": 286.927634,
     "end_time": "2022-02-02T13:33:12.260596",
     "exception": false,
     "start_time": "2022-02-02T13:28:25.332962",
     "status": "completed"
    },
    "tags": []
   },
   "outputs": [
    {
     "name": "stdout",
     "output_type": "stream",
     "text": [
      "Data is loaded!\n",
      "CPU times: user 2min 3s, sys: 10.1 s, total: 2min 13s\n",
      "Wall time: 4min 46s\n"
     ]
    }
   ],
   "source": [
    "%%time\n",
    "# reduce cols for use to save memory capacity\n",
    "basic_cols = ['target']\n",
    "test_cols = ['time_id', 'investment_id']\n",
    "\n",
    "num_feat = 50\n",
    "features = [f'f_{i}' for i in range(num_feat)]\n",
    "cols = basic_cols + features\n",
    "train_cols = test_cols + features\n",
    "\n",
    "# load data\n",
    "train = pd.read_csv('../input/ubiquant-market-prediction/train.csv', usecols=cols)\n",
    "test_df = pd.read_csv('../input/ubiquant-market-prediction/example_test.csv', usecols=features)\n",
    "sample_prediction_df = pd.read_csv('../input/ubiquant-market-prediction/example_sample_submission.csv')\n",
    "print (\"Data is loaded!\")\n"
   ]
  },
  {
   "cell_type": "code",
   "execution_count": 5,
   "id": "d2071c56",
   "metadata": {
    "execution": {
     "iopub.execute_input": "2022-02-02T13:33:12.287917Z",
     "iopub.status.busy": "2022-02-02T13:33:12.287272Z",
     "iopub.status.idle": "2022-02-02T13:33:12.290065Z",
     "shell.execute_reply": "2022-02-02T13:33:12.290451Z",
     "shell.execute_reply.started": "2022-02-02T12:59:43.552316Z"
    },
    "papermill": {
     "duration": 0.01872,
     "end_time": "2022-02-02T13:33:12.290604",
     "exception": false,
     "start_time": "2022-02-02T13:33:12.271884",
     "status": "completed"
    },
    "tags": []
   },
   "outputs": [
    {
     "name": "stdout",
     "output_type": "stream",
     "text": [
      "train shape is (3141410, 51)\n",
      "example_test shape is (9, 50)\n",
      "sample_prediction_df shape is (9, 3)\n"
     ]
    }
   ],
   "source": [
    "print('train shape is {}'.format(train.shape))\n",
    "print('example_test shape is {}'.format(test_df.shape))\n",
    "print('sample_prediction_df shape is {}'.format(sample_prediction_df.shape))"
   ]
  },
  {
   "cell_type": "markdown",
   "id": "68ae7ee2",
   "metadata": {
    "execution": {
     "iopub.execute_input": "2022-02-02T10:59:03.912956Z",
     "iopub.status.busy": "2022-02-02T10:59:03.911955Z",
     "iopub.status.idle": "2022-02-02T10:59:03.942031Z",
     "shell.execute_reply": "2022-02-02T10:59:03.940622Z",
     "shell.execute_reply.started": "2022-02-02T10:59:03.912902Z"
    },
    "papermill": {
     "duration": 0.011374,
     "end_time": "2022-02-02T13:33:12.313302",
     "exception": false,
     "start_time": "2022-02-02T13:33:12.301928",
     "status": "completed"
    },
    "tags": []
   },
   "source": [
    "train.head()"
   ]
  },
  {
   "cell_type": "code",
   "execution_count": 6,
   "id": "c8c1b77a",
   "metadata": {
    "execution": {
     "iopub.execute_input": "2022-02-02T13:33:12.341042Z",
     "iopub.status.busy": "2022-02-02T13:33:12.340189Z",
     "iopub.status.idle": "2022-02-02T13:33:12.661992Z",
     "shell.execute_reply": "2022-02-02T13:33:12.661400Z",
     "shell.execute_reply.started": "2022-02-02T12:59:43.559476Z"
    },
    "papermill": {
     "duration": 0.337238,
     "end_time": "2022-02-02T13:33:12.662129",
     "exception": false,
     "start_time": "2022-02-02T13:33:12.324891",
     "status": "completed"
    },
    "tags": []
   },
   "outputs": [
    {
     "name": "stdout",
     "output_type": "stream",
     "text": [
      "target    0\n",
      "f_0       0\n",
      "f_1       0\n",
      "f_2       0\n",
      "f_3       0\n",
      "f_4       0\n",
      "f_5       0\n",
      "f_6       0\n",
      "f_7       0\n",
      "f_8       0\n",
      "f_9       0\n",
      "f_10      0\n",
      "f_11      0\n",
      "f_12      0\n",
      "f_13      0\n",
      "f_14      0\n",
      "f_15      0\n",
      "f_16      0\n",
      "f_17      0\n",
      "f_18      0\n",
      "f_19      0\n",
      "f_20      0\n",
      "f_21      0\n",
      "f_22      0\n",
      "f_23      0\n",
      "f_24      0\n",
      "f_25      0\n",
      "f_26      0\n",
      "f_27      0\n",
      "f_28      0\n",
      "f_29      0\n",
      "f_30      0\n",
      "f_31      0\n",
      "f_32      0\n",
      "f_33      0\n",
      "f_34      0\n",
      "f_35      0\n",
      "f_36      0\n",
      "f_37      0\n",
      "f_38      0\n",
      "f_39      0\n",
      "f_40      0\n",
      "f_41      0\n",
      "f_42      0\n",
      "f_43      0\n",
      "f_44      0\n",
      "f_45      0\n",
      "f_46      0\n",
      "f_47      0\n",
      "f_48      0\n",
      "f_49      0\n",
      "dtype: int64\n",
      "% of missing data =  0.0\n"
     ]
    }
   ],
   "source": [
    "# Missing Values Count\n",
    "\n",
    "missing_values_count = train.isnull().sum()\n",
    "print (missing_values_count)\n",
    "total_cells = np.product(train.shape)\n",
    "total_missing = missing_values_count.sum()\n",
    "print (\"% of missing data = \",(total_missing/total_cells) * 100)"
   ]
  },
  {
   "cell_type": "code",
   "execution_count": 7,
   "id": "30eed591",
   "metadata": {
    "execution": {
     "iopub.execute_input": "2022-02-02T13:33:13.103315Z",
     "iopub.status.busy": "2022-02-02T13:33:13.102468Z",
     "iopub.status.idle": "2022-02-02T13:33:13.105269Z",
     "shell.execute_reply": "2022-02-02T13:33:13.104645Z",
     "shell.execute_reply.started": "2022-02-02T12:59:43.890430Z"
    },
    "papermill": {
     "duration": 0.431167,
     "end_time": "2022-02-02T13:33:13.105394",
     "exception": false,
     "start_time": "2022-02-02T13:33:12.674227",
     "status": "completed"
    },
    "tags": []
   },
   "outputs": [],
   "source": [
    "X_train = train.loc[:, features]\n",
    "y_train = train.loc[:, 'target']"
   ]
  },
  {
   "cell_type": "code",
   "execution_count": 8,
   "id": "addca0f8",
   "metadata": {
    "execution": {
     "iopub.execute_input": "2022-02-02T13:33:13.135588Z",
     "iopub.status.busy": "2022-02-02T13:33:13.132264Z",
     "iopub.status.idle": "2022-02-02T13:33:15.981674Z",
     "shell.execute_reply": "2022-02-02T13:33:15.981122Z",
     "shell.execute_reply.started": "2022-02-02T12:59:44.300685Z"
    },
    "papermill": {
     "duration": 2.864331,
     "end_time": "2022-02-02T13:33:15.981805",
     "exception": false,
     "start_time": "2022-02-02T13:33:13.117474",
     "status": "completed"
    },
    "tags": []
   },
   "outputs": [],
   "source": [
    "from sklearn.model_selection import train_test_split\n",
    "X_train,X_test,y_train,y_test = train_test_split(X_train, y_train, test_size=0.1, random_state=0)\n"
   ]
  },
  {
   "cell_type": "markdown",
   "id": "b6f6ba73",
   "metadata": {
    "papermill": {
     "duration": 0.013526,
     "end_time": "2022-02-02T13:33:16.007621",
     "exception": false,
     "start_time": "2022-02-02T13:33:15.994095",
     "status": "completed"
    },
    "tags": []
   },
   "source": [
    "regressor=xgb.XGBRegressor(\n",
    "                 tree_learner='serial',\n",
    "                 n_estimators=1000,\n",
    "                 num_leaves=64,\n",
    "                 max_depth=8,\n",
    "                 learning_rate=0.1,\n",
    "                 subsample=0.8,\n",
    "                 feature_fraction=0.6,\n",
    "                 reg_alpha=0.1,\n",
    "                 reg_lambda=0.1,\n",
    "                 random_state=2022,\n",
    "                 tree_method='gpu_hist' )\n",
    "regressor.fit(X_train, y_train, early_stopping_rounds=6, eval_set=[(X_test, y_test)], verbose=1)\n"
   ]
  },
  {
   "cell_type": "code",
   "execution_count": 9,
   "id": "702840a5",
   "metadata": {
    "execution": {
     "iopub.execute_input": "2022-02-02T13:33:16.034532Z",
     "iopub.status.busy": "2022-02-02T13:33:16.033765Z",
     "iopub.status.idle": "2022-02-02T13:34:49.298684Z",
     "shell.execute_reply": "2022-02-02T13:34:49.299615Z",
     "shell.execute_reply.started": "2022-02-02T13:24:53.222860Z"
    },
    "papermill": {
     "duration": 93.280071,
     "end_time": "2022-02-02T13:34:49.299850",
     "exception": false,
     "start_time": "2022-02-02T13:33:16.019779",
     "status": "completed"
    },
    "tags": []
   },
   "outputs": [
    {
     "name": "stdout",
     "output_type": "stream",
     "text": [
      "0:\tlearn: 0.9193032\ttest: 0.9201722\tbest: 0.9201722 (0)\ttotal: 43.7ms\tremaining: 21.8s\n",
      "50:\tlearn: 0.9134326\ttest: 0.9161070\tbest: 0.9161070 (50)\ttotal: 1.69s\tremaining: 14.9s\n",
      "100:\tlearn: 0.9108417\ttest: 0.9150357\tbest: 0.9150357 (100)\ttotal: 3.96s\tremaining: 15.6s\n",
      "150:\tlearn: 0.9087085\ttest: 0.9143243\tbest: 0.9143243 (150)\ttotal: 5.79s\tremaining: 13.4s\n",
      "200:\tlearn: 0.9067857\ttest: 0.9137434\tbest: 0.9137434 (200)\ttotal: 7.46s\tremaining: 11.1s\n",
      "250:\tlearn: 0.9049108\ttest: 0.9132739\tbest: 0.9132739 (250)\ttotal: 9.09s\tremaining: 9.02s\n",
      "300:\tlearn: 0.9031112\ttest: 0.9128072\tbest: 0.9128072 (300)\ttotal: 10.7s\tremaining: 7.07s\n",
      "350:\tlearn: 0.9013050\ttest: 0.9124171\tbest: 0.9124171 (350)\ttotal: 12.3s\tremaining: 5.22s\n",
      "400:\tlearn: 0.8995698\ttest: 0.9120965\tbest: 0.9120965 (400)\ttotal: 13.9s\tremaining: 3.44s\n",
      "450:\tlearn: 0.8979846\ttest: 0.9117235\tbest: 0.9117235 (450)\ttotal: 15.7s\tremaining: 1.71s\n",
      "499:\tlearn: 0.8964679\ttest: 0.9114306\tbest: 0.9114306 (499)\ttotal: 17.3s\tremaining: 0us\n",
      "bestTest = 0.9114306051\n",
      "bestIteration = 499\n"
     ]
    },
    {
     "data": {
      "text/plain": [
       "<catboost.core.CatBoostRegressor at 0x7f78dc2c17d0>"
      ]
     },
     "execution_count": 9,
     "metadata": {},
     "output_type": "execute_result"
    }
   ],
   "source": [
    "cb_model = CatBoostRegressor(iterations=500,\n",
    "                             learning_rate=0.05,\n",
    "                             depth=10,\n",
    "                             eval_metric='RMSE',\n",
    "                             random_seed = 42,\n",
    "                             bagging_temperature = 0.2,\n",
    "                             od_type='Iter',\n",
    "                             metric_period = 50,\n",
    "                             od_wait=20,\n",
    "                            task_type='GPU')\n",
    "cb_model.fit(X_train,y_train,\n",
    "             eval_set=[(X_test, y_test)],\n",
    "             use_best_model=True,\n",
    "             verbose=50)"
   ]
  },
  {
   "cell_type": "markdown",
   "id": "9611d95d",
   "metadata": {
    "execution": {
     "iopub.execute_input": "2022-02-02T12:11:33.916313Z",
     "iopub.status.busy": "2022-02-02T12:11:33.915669Z",
     "iopub.status.idle": "2022-02-02T12:11:33.99808Z",
     "shell.execute_reply": "2022-02-02T12:11:33.997537Z",
     "shell.execute_reply.started": "2022-02-02T12:11:33.91627Z"
    },
    "papermill": {
     "duration": 0.02181,
     "end_time": "2022-02-02T13:34:49.344059",
     "exception": false,
     "start_time": "2022-02-02T13:34:49.322249",
     "status": "completed"
    },
    "tags": []
   },
   "source": [
    "import ubiquant\n",
    "env = ubiquant.make_env()\n",
    "iter_test = env.iter_test()\n",
    "for (test_df, sample_prediction_df) in iter_test:\n",
    "    preds = regressor.predict(test_df[features].values)\n",
    "    sample_prediction_df['target'] = preds\n",
    "    env.predict(sample_prediction_df)"
   ]
  },
  {
   "cell_type": "code",
   "execution_count": 10,
   "id": "f8487a11",
   "metadata": {
    "execution": {
     "iopub.execute_input": "2022-02-02T13:34:49.393829Z",
     "iopub.status.busy": "2022-02-02T13:34:49.393110Z",
     "iopub.status.idle": "2022-02-02T13:34:49.489058Z",
     "shell.execute_reply": "2022-02-02T13:34:49.489710Z",
     "shell.execute_reply.started": "2022-02-02T13:26:34.390810Z"
    },
    "papermill": {
     "duration": 0.123873,
     "end_time": "2022-02-02T13:34:49.489889",
     "exception": false,
     "start_time": "2022-02-02T13:34:49.366016",
     "status": "completed"
    },
    "tags": []
   },
   "outputs": [
    {
     "name": "stdout",
     "output_type": "stream",
     "text": [
      "This version of the API is not optimized and should not be used to estimate the runtime of your code on the hidden test set.\n"
     ]
    }
   ],
   "source": [
    "import ubiquant\n",
    "env = ubiquant.make_env()\n",
    "iter_test = env.iter_test()\n",
    "for (test_df, sample_prediction_df) in iter_test:\n",
    "    preds = cb_model.predict(test_df[features].values)\n",
    "    sample_prediction_df['target'] = preds\n",
    "    env.predict(sample_prediction_df)"
   ]
  },
  {
   "cell_type": "code",
   "execution_count": 11,
   "id": "e4c9485e",
   "metadata": {
    "execution": {
     "iopub.execute_input": "2022-02-02T13:34:49.541312Z",
     "iopub.status.busy": "2022-02-02T13:34:49.540477Z",
     "iopub.status.idle": "2022-02-02T13:34:49.552042Z",
     "shell.execute_reply": "2022-02-02T13:34:49.552564Z",
     "shell.execute_reply.started": "2022-02-02T13:26:37.641663Z"
    },
    "papermill": {
     "duration": 0.039463,
     "end_time": "2022-02-02T13:34:49.552746",
     "exception": false,
     "start_time": "2022-02-02T13:34:49.513283",
     "status": "completed"
    },
    "tags": []
   },
   "outputs": [
    {
     "data": {
      "text/html": [
       "<div>\n",
       "<style scoped>\n",
       "    .dataframe tbody tr th:only-of-type {\n",
       "        vertical-align: middle;\n",
       "    }\n",
       "\n",
       "    .dataframe tbody tr th {\n",
       "        vertical-align: top;\n",
       "    }\n",
       "\n",
       "    .dataframe thead th {\n",
       "        text-align: right;\n",
       "    }\n",
       "</style>\n",
       "<table border=\"1\" class=\"dataframe\">\n",
       "  <thead>\n",
       "    <tr style=\"text-align: right;\">\n",
       "      <th></th>\n",
       "      <th>row_id</th>\n",
       "      <th>target</th>\n",
       "    </tr>\n",
       "  </thead>\n",
       "  <tbody>\n",
       "    <tr>\n",
       "      <th>0</th>\n",
       "      <td>1223_0</td>\n",
       "      <td>-0.06152</td>\n",
       "    </tr>\n",
       "  </tbody>\n",
       "</table>\n",
       "</div>"
      ],
      "text/plain": [
       "   row_id   target\n",
       "0  1223_0 -0.06152"
      ]
     },
     "execution_count": 11,
     "metadata": {},
     "output_type": "execute_result"
    }
   ],
   "source": [
    "sample_prediction_df"
   ]
  }
 ],
 "metadata": {
  "kernelspec": {
   "display_name": "Python 3",
   "language": "python",
   "name": "python3"
  },
  "language_info": {
   "codemirror_mode": {
    "name": "ipython",
    "version": 3
   },
   "file_extension": ".py",
   "mimetype": "text/x-python",
   "name": "python",
   "nbconvert_exporter": "python",
   "pygments_lexer": "ipython3",
   "version": "3.7.12"
  },
  "papermill": {
   "default_parameters": {},
   "duration": 399.491219,
   "end_time": "2022-02-02T13:34:51.959533",
   "environment_variables": {},
   "exception": null,
   "input_path": "__notebook__.ipynb",
   "output_path": "__notebook__.ipynb",
   "parameters": {},
   "start_time": "2022-02-02T13:28:12.468314",
   "version": "2.3.3"
  }
 },
 "nbformat": 4,
 "nbformat_minor": 5
}
