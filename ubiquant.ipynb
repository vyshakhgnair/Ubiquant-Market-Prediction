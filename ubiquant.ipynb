{
 "cells": [
  {
   "cell_type": "code",
   "execution_count": 1,
   "id": "3272264d",
   "metadata": {
    "_cell_guid": "b1076dfc-b9ad-4769-8c92-a6c4dae69d19",
    "_uuid": "8f2839f25d086af736a60e9eeb907d3b93b6e0e5",
    "execution": {
     "iopub.execute_input": "2022-02-02T10:59:51.855361Z",
     "iopub.status.busy": "2022-02-02T10:59:51.848794Z",
     "iopub.status.idle": "2022-02-02T10:59:53.107996Z",
     "shell.execute_reply": "2022-02-02T10:59:53.106919Z",
     "shell.execute_reply.started": "2022-02-02T10:53:55.980969Z"
    },
    "papermill": {
     "duration": 1.275774,
     "end_time": "2022-02-02T10:59:53.108254",
     "exception": false,
     "start_time": "2022-02-02T10:59:51.832480",
     "status": "completed"
    },
    "tags": []
   },
   "outputs": [
    {
     "name": "stdout",
     "output_type": "stream",
     "text": [
      "/kaggle/input/ubiquant-market-prediction/example_sample_submission.csv\n",
      "/kaggle/input/ubiquant-market-prediction/example_test.csv\n",
      "/kaggle/input/ubiquant-market-prediction/train.csv\n",
      "/kaggle/input/ubiquant-market-prediction/ubiquant/competition.cpython-37m-x86_64-linux-gnu.so\n",
      "/kaggle/input/ubiquant-market-prediction/ubiquant/__init__.py\n"
     ]
    }
   ],
   "source": [
    "# This Python 3 environment comes with many helpful analytics libraries installed\n",
    "# It is defined by the kaggle/python Docker image: https://github.com/kaggle/docker-python\n",
    "# For example, here's several helpful packages to load\n",
    "%config Completer.use_jedi = False\n",
    "import numpy as np # linear algebra\n",
    "import pandas as pd # data processing, CSV file I/O (e.g. pd.read_csv)\n",
    "\n",
    "\n",
    "\n",
    "\n",
    "#ploting imports\n",
    "import matplotlib.pyplot as plt\n",
    "import xgboost as xgb\n",
    "from sklearn.metrics import mean_squared_error\n",
    "# Input data files are available in the read-only \"../input/\" directory\n",
    "# For example, running this (by clicking run or pressing Shift+Enter) will list all files under the input directory\n",
    "\n",
    "import os\n",
    "for dirname, _, filenames in os.walk('/kaggle/input'):\n",
    "    for filename in filenames:\n",
    "        print(os.path.join(dirname, filename))\n",
    "\n",
    "# You can write up to 20GB to the current directory (/kaggle/working/) that gets preserved as output when you create a version using \"Save & Run All\" \n",
    "# You can also write temporary files to /kaggle/temp/, but they won't be saved outside of the current session"
   ]
  },
  {
   "cell_type": "code",
   "execution_count": 2,
   "id": "83e4a6ee",
   "metadata": {
    "execution": {
     "iopub.execute_input": "2022-02-02T10:59:53.140123Z",
     "iopub.status.busy": "2022-02-02T10:59:53.139072Z",
     "iopub.status.idle": "2022-02-02T10:59:53.142414Z",
     "shell.execute_reply": "2022-02-02T10:59:53.141858Z",
     "shell.execute_reply.started": "2022-02-02T10:53:57.108416Z"
    },
    "papermill": {
     "duration": 0.020428,
     "end_time": "2022-02-02T10:59:53.142559",
     "exception": false,
     "start_time": "2022-02-02T10:59:53.122131",
     "status": "completed"
    },
    "tags": []
   },
   "outputs": [],
   "source": [
    "#column reduction\n",
    "basic_cols=['target']\n",
    "test_cols=['row_id','investment_id']\n",
    "\n",
    "num_feat=75\n",
    "features=[f'f_{i}' for i in range(num_feat)]\n",
    "cols=basic_cols+features\n",
    "train_cols=test_cols+test_cols\n"
   ]
  },
  {
   "cell_type": "code",
   "execution_count": 3,
   "id": "97f5ad13",
   "metadata": {
    "execution": {
     "iopub.execute_input": "2022-02-02T10:59:53.171828Z",
     "iopub.status.busy": "2022-02-02T10:59:53.170935Z",
     "iopub.status.idle": "2022-02-02T11:04:52.991225Z",
     "shell.execute_reply": "2022-02-02T11:04:52.992018Z",
     "shell.execute_reply.started": "2022-02-02T10:53:57.117620Z"
    },
    "papermill": {
     "duration": 299.839107,
     "end_time": "2022-02-02T11:04:52.992293",
     "exception": false,
     "start_time": "2022-02-02T10:59:53.153186",
     "status": "completed"
    },
    "tags": []
   },
   "outputs": [
    {
     "name": "stdout",
     "output_type": "stream",
     "text": [
      "data is loaded!!!!\n"
     ]
    }
   ],
   "source": [
    "#load data\n",
    "train=pd.read_csv('../input/ubiquant-market-prediction/train.csv',usecols=cols)\n",
    "test_df=pd.read_csv(\"../input/ubiquant-market-prediction/example_test.csv\",usecols=features)\n",
    "sample_prediction_df=pd.read_csv('../input/ubiquant-market-prediction/example_sample_submission.csv')\n",
    "print(\"data is loaded!!!!\")"
   ]
  },
  {
   "cell_type": "code",
   "execution_count": 4,
   "id": "f4405439",
   "metadata": {
    "execution": {
     "iopub.execute_input": "2022-02-02T11:04:53.020888Z",
     "iopub.status.busy": "2022-02-02T11:04:53.019584Z",
     "iopub.status.idle": "2022-02-02T11:04:53.025792Z",
     "shell.execute_reply": "2022-02-02T11:04:53.026608Z",
     "shell.execute_reply.started": "2022-02-02T10:58:45.417501Z"
    },
    "papermill": {
     "duration": 0.02217,
     "end_time": "2022-02-02T11:04:53.026858",
     "exception": false,
     "start_time": "2022-02-02T11:04:53.004688",
     "status": "completed"
    },
    "tags": []
   },
   "outputs": [
    {
     "name": "stdout",
     "output_type": "stream",
     "text": [
      "train shape is (3141410, 76)\n",
      "example_test shape is(9, 75)\n",
      "example_sample_submission shape is(9, 3)\n"
     ]
    }
   ],
   "source": [
    "print(\"train shape is {}\".format(train.shape))\n",
    "print(\"example_test shape is{}\".format(test_df.shape))\n",
    "print(\"example_sample_submission shape is{}\".format(sample_prediction_df.shape))"
   ]
  },
  {
   "cell_type": "code",
   "execution_count": 5,
   "id": "05aa578b",
   "metadata": {
    "execution": {
     "iopub.execute_input": "2022-02-02T11:04:53.065411Z",
     "iopub.status.busy": "2022-02-02T11:04:53.061728Z",
     "iopub.status.idle": "2022-02-02T11:04:53.095948Z",
     "shell.execute_reply": "2022-02-02T11:04:53.096546Z",
     "shell.execute_reply.started": "2022-02-02T10:59:03.912902Z"
    },
    "papermill": {
     "duration": 0.058944,
     "end_time": "2022-02-02T11:04:53.096735",
     "exception": false,
     "start_time": "2022-02-02T11:04:53.037791",
     "status": "completed"
    },
    "tags": []
   },
   "outputs": [
    {
     "data": {
      "text/html": [
       "<div>\n",
       "<style scoped>\n",
       "    .dataframe tbody tr th:only-of-type {\n",
       "        vertical-align: middle;\n",
       "    }\n",
       "\n",
       "    .dataframe tbody tr th {\n",
       "        vertical-align: top;\n",
       "    }\n",
       "\n",
       "    .dataframe thead th {\n",
       "        text-align: right;\n",
       "    }\n",
       "</style>\n",
       "<table border=\"1\" class=\"dataframe\">\n",
       "  <thead>\n",
       "    <tr style=\"text-align: right;\">\n",
       "      <th></th>\n",
       "      <th>target</th>\n",
       "      <th>f_0</th>\n",
       "      <th>f_1</th>\n",
       "      <th>f_2</th>\n",
       "      <th>f_3</th>\n",
       "      <th>f_4</th>\n",
       "      <th>f_5</th>\n",
       "      <th>f_6</th>\n",
       "      <th>f_7</th>\n",
       "      <th>f_8</th>\n",
       "      <th>...</th>\n",
       "      <th>f_65</th>\n",
       "      <th>f_66</th>\n",
       "      <th>f_67</th>\n",
       "      <th>f_68</th>\n",
       "      <th>f_69</th>\n",
       "      <th>f_70</th>\n",
       "      <th>f_71</th>\n",
       "      <th>f_72</th>\n",
       "      <th>f_73</th>\n",
       "      <th>f_74</th>\n",
       "    </tr>\n",
       "  </thead>\n",
       "  <tbody>\n",
       "    <tr>\n",
       "      <th>0</th>\n",
       "      <td>-0.300875</td>\n",
       "      <td>0.932573</td>\n",
       "      <td>0.113691</td>\n",
       "      <td>-0.402206</td>\n",
       "      <td>0.378386</td>\n",
       "      <td>-0.203938</td>\n",
       "      <td>-0.413469</td>\n",
       "      <td>0.965623</td>\n",
       "      <td>1.230508</td>\n",
       "      <td>0.114809</td>\n",
       "      <td>...</td>\n",
       "      <td>0.662736</td>\n",
       "      <td>1.933138</td>\n",
       "      <td>-0.812392</td>\n",
       "      <td>0.072803</td>\n",
       "      <td>-0.778987</td>\n",
       "      <td>-0.553666</td>\n",
       "      <td>-0.032761</td>\n",
       "      <td>-0.619364</td>\n",
       "      <td>-1.424479</td>\n",
       "      <td>0.148335</td>\n",
       "    </tr>\n",
       "    <tr>\n",
       "      <th>1</th>\n",
       "      <td>-0.231040</td>\n",
       "      <td>0.810802</td>\n",
       "      <td>-0.514115</td>\n",
       "      <td>0.742368</td>\n",
       "      <td>-0.616673</td>\n",
       "      <td>-0.194255</td>\n",
       "      <td>1.771210</td>\n",
       "      <td>1.428127</td>\n",
       "      <td>1.134144</td>\n",
       "      <td>0.114809</td>\n",
       "      <td>...</td>\n",
       "      <td>-0.292549</td>\n",
       "      <td>-0.550049</td>\n",
       "      <td>-1.629836</td>\n",
       "      <td>0.902852</td>\n",
       "      <td>0.509950</td>\n",
       "      <td>0.377552</td>\n",
       "      <td>0.052099</td>\n",
       "      <td>-0.763414</td>\n",
       "      <td>-1.307945</td>\n",
       "      <td>0.148335</td>\n",
       "    </tr>\n",
       "    <tr>\n",
       "      <th>2</th>\n",
       "      <td>0.568807</td>\n",
       "      <td>0.393974</td>\n",
       "      <td>0.615937</td>\n",
       "      <td>0.567806</td>\n",
       "      <td>-0.607963</td>\n",
       "      <td>0.068883</td>\n",
       "      <td>-1.083155</td>\n",
       "      <td>0.979656</td>\n",
       "      <td>-1.125681</td>\n",
       "      <td>0.114809</td>\n",
       "      <td>...</td>\n",
       "      <td>0.309863</td>\n",
       "      <td>-0.550049</td>\n",
       "      <td>1.638620</td>\n",
       "      <td>-0.476601</td>\n",
       "      <td>-0.909049</td>\n",
       "      <td>-0.544951</td>\n",
       "      <td>-0.546394</td>\n",
       "      <td>0.163453</td>\n",
       "      <td>1.748066</td>\n",
       "      <td>0.148335</td>\n",
       "    </tr>\n",
       "    <tr>\n",
       "      <th>3</th>\n",
       "      <td>-1.064780</td>\n",
       "      <td>-2.343535</td>\n",
       "      <td>-0.011870</td>\n",
       "      <td>1.874606</td>\n",
       "      <td>-0.606346</td>\n",
       "      <td>-0.586827</td>\n",
       "      <td>-0.815737</td>\n",
       "      <td>0.778096</td>\n",
       "      <td>0.298990</td>\n",
       "      <td>0.114809</td>\n",
       "      <td>...</td>\n",
       "      <td>0.464784</td>\n",
       "      <td>-0.550049</td>\n",
       "      <td>-0.831141</td>\n",
       "      <td>-0.653802</td>\n",
       "      <td>-0.941017</td>\n",
       "      <td>-0.424802</td>\n",
       "      <td>-0.413291</td>\n",
       "      <td>1.553026</td>\n",
       "      <td>-0.490458</td>\n",
       "      <td>0.148335</td>\n",
       "    </tr>\n",
       "    <tr>\n",
       "      <th>4</th>\n",
       "      <td>-0.531940</td>\n",
       "      <td>0.842057</td>\n",
       "      <td>-0.262993</td>\n",
       "      <td>2.330030</td>\n",
       "      <td>-0.583422</td>\n",
       "      <td>-0.618392</td>\n",
       "      <td>-0.742814</td>\n",
       "      <td>-0.946789</td>\n",
       "      <td>1.230508</td>\n",
       "      <td>0.114809</td>\n",
       "      <td>...</td>\n",
       "      <td>-1.240730</td>\n",
       "      <td>-0.550049</td>\n",
       "      <td>-0.812392</td>\n",
       "      <td>-0.696176</td>\n",
       "      <td>-0.410776</td>\n",
       "      <td>-0.783214</td>\n",
       "      <td>-0.695970</td>\n",
       "      <td>1.394426</td>\n",
       "      <td>-1.424479</td>\n",
       "      <td>0.148335</td>\n",
       "    </tr>\n",
       "  </tbody>\n",
       "</table>\n",
       "<p>5 rows × 76 columns</p>\n",
       "</div>"
      ],
      "text/plain": [
       "     target       f_0       f_1       f_2       f_3       f_4       f_5  \\\n",
       "0 -0.300875  0.932573  0.113691 -0.402206  0.378386 -0.203938 -0.413469   \n",
       "1 -0.231040  0.810802 -0.514115  0.742368 -0.616673 -0.194255  1.771210   \n",
       "2  0.568807  0.393974  0.615937  0.567806 -0.607963  0.068883 -1.083155   \n",
       "3 -1.064780 -2.343535 -0.011870  1.874606 -0.606346 -0.586827 -0.815737   \n",
       "4 -0.531940  0.842057 -0.262993  2.330030 -0.583422 -0.618392 -0.742814   \n",
       "\n",
       "        f_6       f_7       f_8  ...      f_65      f_66      f_67      f_68  \\\n",
       "0  0.965623  1.230508  0.114809  ...  0.662736  1.933138 -0.812392  0.072803   \n",
       "1  1.428127  1.134144  0.114809  ... -0.292549 -0.550049 -1.629836  0.902852   \n",
       "2  0.979656 -1.125681  0.114809  ...  0.309863 -0.550049  1.638620 -0.476601   \n",
       "3  0.778096  0.298990  0.114809  ...  0.464784 -0.550049 -0.831141 -0.653802   \n",
       "4 -0.946789  1.230508  0.114809  ... -1.240730 -0.550049 -0.812392 -0.696176   \n",
       "\n",
       "       f_69      f_70      f_71      f_72      f_73      f_74  \n",
       "0 -0.778987 -0.553666 -0.032761 -0.619364 -1.424479  0.148335  \n",
       "1  0.509950  0.377552  0.052099 -0.763414 -1.307945  0.148335  \n",
       "2 -0.909049 -0.544951 -0.546394  0.163453  1.748066  0.148335  \n",
       "3 -0.941017 -0.424802 -0.413291  1.553026 -0.490458  0.148335  \n",
       "4 -0.410776 -0.783214 -0.695970  1.394426 -1.424479  0.148335  \n",
       "\n",
       "[5 rows x 76 columns]"
      ]
     },
     "execution_count": 5,
     "metadata": {},
     "output_type": "execute_result"
    }
   ],
   "source": [
    "train.head()"
   ]
  },
  {
   "cell_type": "code",
   "execution_count": 6,
   "id": "b54f8606",
   "metadata": {
    "execution": {
     "iopub.execute_input": "2022-02-02T11:04:53.125358Z",
     "iopub.status.busy": "2022-02-02T11:04:53.124254Z",
     "iopub.status.idle": "2022-02-02T11:04:53.642307Z",
     "shell.execute_reply": "2022-02-02T11:04:53.643607Z",
     "shell.execute_reply.started": "2022-02-02T10:58:45.475606Z"
    },
    "papermill": {
     "duration": 0.535897,
     "end_time": "2022-02-02T11:04:53.643927",
     "exception": false,
     "start_time": "2022-02-02T11:04:53.108030",
     "status": "completed"
    },
    "tags": []
   },
   "outputs": [
    {
     "name": "stdout",
     "output_type": "stream",
     "text": [
      "target    0\n",
      "f_0       0\n",
      "f_1       0\n",
      "f_2       0\n",
      "f_3       0\n",
      "         ..\n",
      "f_70      0\n",
      "f_71      0\n",
      "f_72      0\n",
      "f_73      0\n",
      "f_74      0\n",
      "Length: 76, dtype: int64\n",
      "% of missing data= 0.0\n"
     ]
    }
   ],
   "source": [
    "#missing value count\n",
    "missing_value=train.isnull().sum()\n",
    "print(missing_value)\n",
    "total_cells=np.product(train.shape)\n",
    "total_missing=missing_value.sum()\n",
    "print(\"% of missing data=\",(total_missing/total_cells))"
   ]
  },
  {
   "cell_type": "code",
   "execution_count": 7,
   "id": "5176ef4b",
   "metadata": {
    "execution": {
     "iopub.execute_input": "2022-02-02T11:04:54.436747Z",
     "iopub.status.busy": "2022-02-02T11:04:54.434097Z",
     "iopub.status.idle": "2022-02-02T11:04:54.440167Z",
     "shell.execute_reply": "2022-02-02T11:04:54.439348Z",
     "shell.execute_reply.started": "2022-02-02T10:58:46.156400Z"
    },
    "papermill": {
     "duration": 0.783978,
     "end_time": "2022-02-02T11:04:54.440325",
     "exception": false,
     "start_time": "2022-02-02T11:04:53.656347",
     "status": "completed"
    },
    "tags": []
   },
   "outputs": [],
   "source": [
    "X_train=train.loc[:, features]\n",
    "y_train=train.loc[:, 'target']"
   ]
  },
  {
   "cell_type": "code",
   "execution_count": 8,
   "id": "f1d8e243",
   "metadata": {
    "execution": {
     "iopub.execute_input": "2022-02-02T11:04:54.476600Z",
     "iopub.status.busy": "2022-02-02T11:04:54.475477Z",
     "iopub.status.idle": "2022-02-02T11:04:59.007382Z",
     "shell.execute_reply": "2022-02-02T11:04:59.009785Z",
     "shell.execute_reply.started": "2022-02-02T10:58:46.965382Z"
    },
    "papermill": {
     "duration": 4.557987,
     "end_time": "2022-02-02T11:04:59.010478",
     "exception": false,
     "start_time": "2022-02-02T11:04:54.452491",
     "status": "completed"
    },
    "tags": []
   },
   "outputs": [],
   "source": [
    "from sklearn.model_selection import train_test_split\n",
    "X_train,X_test,y_train,y_test=train_test_split(X_train,y_train,test_size=0.1,random_state=0)\n"
   ]
  },
  {
   "cell_type": "code",
   "execution_count": 9,
   "id": "44fcfd11",
   "metadata": {
    "execution": {
     "iopub.execute_input": "2022-02-02T11:04:59.079756Z",
     "iopub.status.busy": "2022-02-02T11:04:59.077308Z",
     "iopub.status.idle": "2022-02-02T11:05:11.462307Z",
     "shell.execute_reply": "2022-02-02T11:05:11.461530Z",
     "shell.execute_reply.started": "2022-02-02T10:58:51.433866Z"
    },
    "papermill": {
     "duration": 12.427743,
     "end_time": "2022-02-02T11:05:11.462477",
     "exception": false,
     "start_time": "2022-02-02T11:04:59.034734",
     "status": "completed"
    },
    "tags": []
   },
   "outputs": [
    {
     "name": "stdout",
     "output_type": "stream",
     "text": [
      "[11:05:09] WARNING: ../src/learner.cc:576: \n",
      "Parameters: { \"feature_fraction\", \"num_leaves\", \"tree_learner\" } might not be used.\n",
      "\n",
      "  This could be a false alarm, with some parameters getting used by language bindings but\n",
      "  then being mistakenly passed down to XGBoost core, or some parameter actually being used\n",
      "  but getting flagged wrongly here. Please open an issue if you find any such cases.\n",
      "\n",
      "\n",
      "[0]\tvalidation_0-rmse:1.05763\n",
      "[1]\tvalidation_0-rmse:1.05763\n",
      "[2]\tvalidation_0-rmse:1.05763\n",
      "[3]\tvalidation_0-rmse:1.05763\n",
      "[4]\tvalidation_0-rmse:1.05763\n",
      "[5]\tvalidation_0-rmse:1.05763\n"
     ]
    },
    {
     "data": {
      "text/plain": [
       "XGBRegressor(base_score=0.5, booster='gbtree', colsample_bylevel=1,\n",
       "             colsample_bynode=1, colsample_bytree=1, enable_categorical=False,\n",
       "             feature_fraction=0.6, gamma=0, gpu_id=0, importance_type=None,\n",
       "             interaction_constraints='', learning_rate=0.1, max_delta_step=0,\n",
       "             max_depth=8, min_child_weight=1, missing=nan,\n",
       "             monotone_constraints='()', n_estimators=1000, n_jobs=2,\n",
       "             num_leaves=64, num_parallel_tree=1, predictor='auto',\n",
       "             random_state=2022, reg_alpha=0.1, reg_lambda=0.1,\n",
       "             scale_pos_weight=1, subsample=0, tree_learner='serial',\n",
       "             tree_method='gpu_hist', validate_parameters=1, ...)"
      ]
     },
     "execution_count": 9,
     "metadata": {},
     "output_type": "execute_result"
    }
   ],
   "source": [
    "regressor=xgb.XGBRegressor(\n",
    "    tree_learner='serial',\n",
    "    n_estimators=1000,\n",
    "    num_leaves=64,\n",
    "    max_depth=8,\n",
    "    learning_rate=0.1,\n",
    "    feature_fraction=0.6,\n",
    "    subsample=0,\n",
    "    reg_alpha=0.1,\n",
    "    reg_lambda=0.1,\n",
    "    random_state=2022,\n",
    "    tree_method='gpu_hist')\n",
    "regressor.fit(X_train, y_train, early_stopping_rounds=6, eval_set=[(X_test, y_test)], verbose=1)\n"
   ]
  },
  {
   "cell_type": "code",
   "execution_count": 10,
   "id": "c61cfe9a",
   "metadata": {
    "execution": {
     "iopub.execute_input": "2022-02-02T11:05:11.498480Z",
     "iopub.status.busy": "2022-02-02T11:05:11.497625Z",
     "iopub.status.idle": "2022-02-02T11:05:11.589916Z",
     "shell.execute_reply": "2022-02-02T11:05:11.590495Z",
     "shell.execute_reply.started": "2022-02-02T10:59:03.782771Z"
    },
    "papermill": {
     "duration": 0.113108,
     "end_time": "2022-02-02T11:05:11.590749",
     "exception": false,
     "start_time": "2022-02-02T11:05:11.477641",
     "status": "completed"
    },
    "tags": []
   },
   "outputs": [
    {
     "name": "stdout",
     "output_type": "stream",
     "text": [
      "This version of the API is not optimized and should not be used to estimate the runtime of your code on the hidden test set.\n"
     ]
    }
   ],
   "source": [
    "import ubiquant\n",
    "env = ubiquant.make_env()\n",
    "iter_test = env.iter_test()\n",
    "for (test_df, sample_prediction_df) in iter_test:\n",
    "    preds = regressor.predict(test_df[features].values)\n",
    "    sample_prediction_df['target'] = preds\n",
    "    env.predict(sample_prediction_df)"
   ]
  }
 ],
 "metadata": {
  "kernelspec": {
   "display_name": "Python 3",
   "language": "python",
   "name": "python3"
  },
  "language_info": {
   "codemirror_mode": {
    "name": "ipython",
    "version": 3
   },
   "file_extension": ".py",
   "mimetype": "text/x-python",
   "name": "python",
   "nbconvert_exporter": "python",
   "pygments_lexer": "ipython3",
   "version": "3.7.12"
  },
  "papermill": {
   "default_parameters": {},
   "duration": 332.518026,
   "end_time": "2022-02-02T11:05:13.422344",
   "environment_variables": {},
   "exception": null,
   "input_path": "__notebook__.ipynb",
   "output_path": "__notebook__.ipynb",
   "parameters": {},
   "start_time": "2022-02-02T10:59:40.904318",
   "version": "2.3.3"
  }
 },
 "nbformat": 4,
 "nbformat_minor": 5
}
