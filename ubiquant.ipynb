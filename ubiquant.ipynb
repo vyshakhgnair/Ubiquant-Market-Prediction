{
 "cells": [
  {
   "cell_type": "code",
   "execution_count": 1,
   "id": "3af459dd",
   "metadata": {
    "_cell_guid": "b1076dfc-b9ad-4769-8c92-a6c4dae69d19",
    "_uuid": "8f2839f25d086af736a60e9eeb907d3b93b6e0e5",
    "execution": {
     "iopub.execute_input": "2022-02-02T12:12:11.374902Z",
     "iopub.status.busy": "2022-02-02T12:12:11.369140Z",
     "iopub.status.idle": "2022-02-02T12:12:15.794991Z",
     "shell.execute_reply": "2022-02-02T12:12:15.795576Z",
     "shell.execute_reply.started": "2022-02-02T12:00:21.781901Z"
    },
    "papermill": {
     "duration": 4.451931,
     "end_time": "2022-02-02T12:12:15.795955",
     "exception": false,
     "start_time": "2022-02-02T12:12:11.344024",
     "status": "completed"
    },
    "tags": []
   },
   "outputs": [
    {
     "name": "stderr",
     "output_type": "stream",
     "text": [
      "/opt/conda/lib/python3.7/site-packages/geopandas/_compat.py:115: UserWarning:\n",
      "\n",
      "The Shapely GEOS version (3.9.1-CAPI-1.14.2) is incompatible with the GEOS version PyGEOS was compiled with (3.10.1-CAPI-1.16.0). Conversions between both will be slow.\n",
      "\n"
     ]
    },
    {
     "name": "stdout",
     "output_type": "stream",
     "text": [
      "/kaggle/input/ubiquant-market-prediction/example_sample_submission.csv\n",
      "/kaggle/input/ubiquant-market-prediction/example_test.csv\n",
      "/kaggle/input/ubiquant-market-prediction/train.csv\n",
      "/kaggle/input/ubiquant-market-prediction/ubiquant/competition.cpython-37m-x86_64-linux-gnu.so\n",
      "/kaggle/input/ubiquant-market-prediction/ubiquant/__init__.py\n"
     ]
    }
   ],
   "source": [
    "\n",
    "%config Completer.use_jedi = False\n",
    "import numpy as np # linear algebra\n",
    "import pandas as pd # data processing, CSV file I/O (e.g. pd.read_csv)\n",
    "pd.set_option('display.max_columns', 500)\n",
    "\n",
    "\n",
    "# Standard plotly imports\n",
    "import plotly as py\n",
    "import plotly.graph_objs as go\n",
    "import plotly.tools as tls\n",
    "from plotly.offline import iplot, init_notebook_mode\n",
    "import cufflinks\n",
    "import cufflinks as cf\n",
    "import plotly.figure_factory as ff\n",
    "from sklearn import preprocessing\n",
    "import xgboost as xgb\n",
    "from sklearn.metrics import mean_squared_error\n",
    "import warnings\n",
    "warnings.filterwarnings(\"ignore\")\n",
    "import numpy as np # linear algebra\n",
    "import pandas as pd # data processing, CSV file I/O (e.g. pd.read_csv)\n",
    "\n",
    "\n",
    "\n",
    "\n",
    "#ploting imports\n",
    "import matplotlib.pyplot as plt\n",
    "import xgboost as xgb\n",
    "from sklearn.metrics import mean_squared_error\n",
    "# Input data files are available in the read-only \"../input/\" directory\n",
    "# For example, running this (by clicking run or pressing Shift+Enter) will list all files under the input directory\n",
    "\n",
    "import os\n",
    "for dirname, _, filenames in os.walk('/kaggle/input'):\n",
    "    for filename in filenames:\n",
    "        print(os.path.join(dirname, filename))\n",
    "\n",
    "# You can write up to 20GB to the current directory (/kaggle/working/) that gets preserved as output when you create a version using \"Save & Run All\" \n",
    "# You can also write temporary files to /kaggle/temp/, but they won't be saved outside of the current session"
   ]
  },
  {
   "cell_type": "code",
   "execution_count": 2,
   "id": "8b17b66a",
   "metadata": {
    "execution": {
     "iopub.execute_input": "2022-02-02T12:12:15.821488Z",
     "iopub.status.busy": "2022-02-02T12:12:15.820926Z",
     "iopub.status.idle": "2022-02-02T12:12:15.824188Z",
     "shell.execute_reply": "2022-02-02T12:12:15.824590Z",
     "shell.execute_reply.started": "2022-02-02T12:00:26.480453Z"
    },
    "papermill": {
     "duration": 0.018318,
     "end_time": "2022-02-02T12:12:15.824728",
     "exception": false,
     "start_time": "2022-02-02T12:12:15.806410",
     "status": "completed"
    },
    "tags": []
   },
   "outputs": [
    {
     "name": "stdout",
     "output_type": "stream",
     "text": [
      "XGBoost version: 1.5.2\n"
     ]
    }
   ],
   "source": [
    "print(\"XGBoost version:\", xgb.__version__)"
   ]
  },
  {
   "cell_type": "code",
   "execution_count": 3,
   "id": "8ff12ee4",
   "metadata": {
    "execution": {
     "iopub.execute_input": "2022-02-02T12:12:15.849184Z",
     "iopub.status.busy": "2022-02-02T12:12:15.848693Z",
     "iopub.status.idle": "2022-02-02T12:12:15.858440Z",
     "shell.execute_reply": "2022-02-02T12:12:15.857854Z",
     "shell.execute_reply.started": "2022-02-02T12:00:44.737071Z"
    },
    "papermill": {
     "duration": 0.023888,
     "end_time": "2022-02-02T12:12:15.858581",
     "exception": false,
     "start_time": "2022-02-02T12:12:15.834693",
     "status": "completed"
    },
    "tags": []
   },
   "outputs": [
    {
     "name": "stdout",
     "output_type": "stream",
     "text": [
      "Directory size: 18546.99MB\n"
     ]
    }
   ],
   "source": [
    "# print('# File sizes')\n",
    "total_size = 0\n",
    "start_path = '../input/ubiquant-market-prediction'  # To get size of current directory\n",
    "for path, dirs, files in os.walk(start_path):\n",
    "    for f in files:\n",
    "        fp = os.path.join(path, f)\n",
    "        total_size += os.path.getsize(fp)\n",
    "print(\"Directory size: \" + str(round(total_size/ 1000000, 2)) + 'MB')"
   ]
  },
  {
   "cell_type": "code",
   "execution_count": 4,
   "id": "b7a29ed0",
   "metadata": {
    "execution": {
     "iopub.execute_input": "2022-02-02T12:12:15.886983Z",
     "iopub.status.busy": "2022-02-02T12:12:15.886340Z",
     "iopub.status.idle": "2022-02-02T12:16:46.619158Z",
     "shell.execute_reply": "2022-02-02T12:16:46.619637Z",
     "shell.execute_reply.started": "2022-02-02T12:01:26.902179Z"
    },
    "papermill": {
     "duration": 270.750845,
     "end_time": "2022-02-02T12:16:46.619802",
     "exception": false,
     "start_time": "2022-02-02T12:12:15.868957",
     "status": "completed"
    },
    "tags": []
   },
   "outputs": [
    {
     "name": "stdout",
     "output_type": "stream",
     "text": [
      "Data is loaded!\n",
      "CPU times: user 2min 2s, sys: 10.3 s, total: 2min 12s\n",
      "Wall time: 4min 30s\n"
     ]
    }
   ],
   "source": [
    "%%time\n",
    "# reduce cols for use to save memory capacity\n",
    "basic_cols = ['target']\n",
    "test_cols = ['time_id', 'investment_id']\n",
    "\n",
    "num_feat = 50\n",
    "features = [f'f_{i}' for i in range(num_feat)]\n",
    "cols = basic_cols + features\n",
    "train_cols = test_cols + features\n",
    "\n",
    "# load data\n",
    "train = pd.read_csv('../input/ubiquant-market-prediction/train.csv', usecols=cols)\n",
    "test_df = pd.read_csv('../input/ubiquant-market-prediction/example_test.csv', usecols=features)\n",
    "sample_prediction_df = pd.read_csv('../input/ubiquant-market-prediction/example_sample_submission.csv')\n",
    "print (\"Data is loaded!\")\n"
   ]
  },
  {
   "cell_type": "code",
   "execution_count": 5,
   "id": "b1e802f7",
   "metadata": {
    "execution": {
     "iopub.execute_input": "2022-02-02T12:16:46.644787Z",
     "iopub.status.busy": "2022-02-02T12:16:46.644171Z",
     "iopub.status.idle": "2022-02-02T12:16:46.647105Z",
     "shell.execute_reply": "2022-02-02T12:16:46.647692Z",
     "shell.execute_reply.started": "2022-02-02T12:10:52.466697Z"
    },
    "papermill": {
     "duration": 0.017789,
     "end_time": "2022-02-02T12:16:46.647852",
     "exception": false,
     "start_time": "2022-02-02T12:16:46.630063",
     "status": "completed"
    },
    "tags": []
   },
   "outputs": [
    {
     "name": "stdout",
     "output_type": "stream",
     "text": [
      "train shape is (3141410, 51)\n",
      "example_test shape is (9, 50)\n",
      "sample_prediction_df shape is (9, 3)\n"
     ]
    }
   ],
   "source": [
    "print('train shape is {}'.format(train.shape))\n",
    "print('example_test shape is {}'.format(test_df.shape))\n",
    "print('sample_prediction_df shape is {}'.format(sample_prediction_df.shape))"
   ]
  },
  {
   "cell_type": "markdown",
   "id": "f62ba69f",
   "metadata": {
    "execution": {
     "iopub.execute_input": "2022-02-02T10:59:03.912956Z",
     "iopub.status.busy": "2022-02-02T10:59:03.911955Z",
     "iopub.status.idle": "2022-02-02T10:59:03.942031Z",
     "shell.execute_reply": "2022-02-02T10:59:03.940622Z",
     "shell.execute_reply.started": "2022-02-02T10:59:03.912902Z"
    },
    "papermill": {
     "duration": 0.010077,
     "end_time": "2022-02-02T12:16:46.668956",
     "exception": false,
     "start_time": "2022-02-02T12:16:46.658879",
     "status": "completed"
    },
    "tags": []
   },
   "source": [
    "train.head()"
   ]
  },
  {
   "cell_type": "code",
   "execution_count": 6,
   "id": "c63bf29d",
   "metadata": {
    "execution": {
     "iopub.execute_input": "2022-02-02T12:16:46.696915Z",
     "iopub.status.busy": "2022-02-02T12:16:46.696120Z",
     "iopub.status.idle": "2022-02-02T12:16:47.063200Z",
     "shell.execute_reply": "2022-02-02T12:16:47.062426Z",
     "shell.execute_reply.started": "2022-02-02T12:10:56.140765Z"
    },
    "papermill": {
     "duration": 0.384262,
     "end_time": "2022-02-02T12:16:47.063341",
     "exception": false,
     "start_time": "2022-02-02T12:16:46.679079",
     "status": "completed"
    },
    "tags": []
   },
   "outputs": [
    {
     "name": "stdout",
     "output_type": "stream",
     "text": [
      "target    0\n",
      "f_0       0\n",
      "f_1       0\n",
      "f_2       0\n",
      "f_3       0\n",
      "f_4       0\n",
      "f_5       0\n",
      "f_6       0\n",
      "f_7       0\n",
      "f_8       0\n",
      "f_9       0\n",
      "f_10      0\n",
      "f_11      0\n",
      "f_12      0\n",
      "f_13      0\n",
      "f_14      0\n",
      "f_15      0\n",
      "f_16      0\n",
      "f_17      0\n",
      "f_18      0\n",
      "f_19      0\n",
      "f_20      0\n",
      "f_21      0\n",
      "f_22      0\n",
      "f_23      0\n",
      "f_24      0\n",
      "f_25      0\n",
      "f_26      0\n",
      "f_27      0\n",
      "f_28      0\n",
      "f_29      0\n",
      "f_30      0\n",
      "f_31      0\n",
      "f_32      0\n",
      "f_33      0\n",
      "f_34      0\n",
      "f_35      0\n",
      "f_36      0\n",
      "f_37      0\n",
      "f_38      0\n",
      "f_39      0\n",
      "f_40      0\n",
      "f_41      0\n",
      "f_42      0\n",
      "f_43      0\n",
      "f_44      0\n",
      "f_45      0\n",
      "f_46      0\n",
      "f_47      0\n",
      "f_48      0\n",
      "f_49      0\n",
      "dtype: int64\n",
      "% of missing data =  0.0\n"
     ]
    }
   ],
   "source": [
    "# Missing Values Count\n",
    "\n",
    "missing_values_count = train.isnull().sum()\n",
    "print (missing_values_count)\n",
    "total_cells = np.product(train.shape)\n",
    "total_missing = missing_values_count.sum()\n",
    "print (\"% of missing data = \",(total_missing/total_cells) * 100)"
   ]
  },
  {
   "cell_type": "code",
   "execution_count": 7,
   "id": "a6e9d3d8",
   "metadata": {
    "execution": {
     "iopub.execute_input": "2022-02-02T12:16:47.505765Z",
     "iopub.status.busy": "2022-02-02T12:16:47.505149Z",
     "iopub.status.idle": "2022-02-02T12:16:47.511413Z",
     "shell.execute_reply": "2022-02-02T12:16:47.510615Z",
     "shell.execute_reply.started": "2022-02-02T12:11:00.344940Z"
    },
    "papermill": {
     "duration": 0.437407,
     "end_time": "2022-02-02T12:16:47.511544",
     "exception": false,
     "start_time": "2022-02-02T12:16:47.074137",
     "status": "completed"
    },
    "tags": []
   },
   "outputs": [],
   "source": [
    "X_train = train.loc[:, features]\n",
    "y_train = train.loc[:, 'target']"
   ]
  },
  {
   "cell_type": "code",
   "execution_count": 8,
   "id": "12a43917",
   "metadata": {
    "execution": {
     "iopub.execute_input": "2022-02-02T12:16:47.539562Z",
     "iopub.status.busy": "2022-02-02T12:16:47.538686Z",
     "iopub.status.idle": "2022-02-02T12:16:50.440596Z",
     "shell.execute_reply": "2022-02-02T12:16:50.441011Z",
     "shell.execute_reply.started": "2022-02-02T12:11:04.320829Z"
    },
    "papermill": {
     "duration": 2.918943,
     "end_time": "2022-02-02T12:16:50.441182",
     "exception": false,
     "start_time": "2022-02-02T12:16:47.522239",
     "status": "completed"
    },
    "tags": []
   },
   "outputs": [],
   "source": [
    "from sklearn.model_selection import train_test_split\n",
    "X_train,X_test,y_train,y_test = train_test_split(X_train, y_train, test_size=0.1, random_state=0)\n"
   ]
  },
  {
   "cell_type": "code",
   "execution_count": 9,
   "id": "429f4201",
   "metadata": {
    "execution": {
     "iopub.execute_input": "2022-02-02T12:16:50.468609Z",
     "iopub.status.busy": "2022-02-02T12:16:50.467961Z",
     "iopub.status.idle": "2022-02-02T12:17:07.052503Z",
     "shell.execute_reply": "2022-02-02T12:17:07.052977Z",
     "shell.execute_reply.started": "2022-02-02T12:11:09.406244Z"
    },
    "papermill": {
     "duration": 16.600977,
     "end_time": "2022-02-02T12:17:07.053124",
     "exception": false,
     "start_time": "2022-02-02T12:16:50.452147",
     "status": "completed"
    },
    "tags": []
   },
   "outputs": [
    {
     "name": "stdout",
     "output_type": "stream",
     "text": [
      "[12:16:55] WARNING: ../src/learner.cc:576: \n",
      "Parameters: { \"feature_fraction\", \"num_leaves\", \"tree_learner\" } might not be used.\n",
      "\n",
      "  This could be a false alarm, with some parameters getting used by language bindings but\n",
      "  then being mistakenly passed down to XGBoost core, or some parameter actually being used\n",
      "  but getting flagged wrongly here. Please open an issue if you find any such cases.\n",
      "\n",
      "\n",
      "[0]\tvalidation_0-rmse:1.03230\n",
      "[1]\tvalidation_0-rmse:1.01138\n",
      "[2]\tvalidation_0-rmse:0.99404\n",
      "[3]\tvalidation_0-rmse:0.97976\n",
      "[4]\tvalidation_0-rmse:0.96801\n",
      "[5]\tvalidation_0-rmse:0.95838\n",
      "[6]\tvalidation_0-rmse:0.95046\n",
      "[7]\tvalidation_0-rmse:0.94403\n",
      "[8]\tvalidation_0-rmse:0.93876\n",
      "[9]\tvalidation_0-rmse:0.93442\n",
      "[10]\tvalidation_0-rmse:0.93087\n",
      "[11]\tvalidation_0-rmse:0.92798\n",
      "[12]\tvalidation_0-rmse:0.92559\n",
      "[13]\tvalidation_0-rmse:0.92363\n",
      "[14]\tvalidation_0-rmse:0.92204\n",
      "[15]\tvalidation_0-rmse:0.92077\n",
      "[16]\tvalidation_0-rmse:0.91974\n",
      "[17]\tvalidation_0-rmse:0.91887\n",
      "[18]\tvalidation_0-rmse:0.91813\n",
      "[19]\tvalidation_0-rmse:0.91752\n",
      "[20]\tvalidation_0-rmse:0.91699\n",
      "[21]\tvalidation_0-rmse:0.91657\n",
      "[22]\tvalidation_0-rmse:0.91624\n",
      "[23]\tvalidation_0-rmse:0.91595\n",
      "[24]\tvalidation_0-rmse:0.91568\n",
      "[25]\tvalidation_0-rmse:0.91543\n",
      "[26]\tvalidation_0-rmse:0.91524\n",
      "[27]\tvalidation_0-rmse:0.91510\n",
      "[28]\tvalidation_0-rmse:0.91499\n",
      "[29]\tvalidation_0-rmse:0.91485\n",
      "[30]\tvalidation_0-rmse:0.91472\n",
      "[31]\tvalidation_0-rmse:0.91465\n",
      "[32]\tvalidation_0-rmse:0.91455\n",
      "[33]\tvalidation_0-rmse:0.91446\n",
      "[34]\tvalidation_0-rmse:0.91440\n",
      "[35]\tvalidation_0-rmse:0.91433\n",
      "[36]\tvalidation_0-rmse:0.91427\n",
      "[37]\tvalidation_0-rmse:0.91419\n",
      "[38]\tvalidation_0-rmse:0.91413\n",
      "[39]\tvalidation_0-rmse:0.91409\n",
      "[40]\tvalidation_0-rmse:0.91402\n",
      "[41]\tvalidation_0-rmse:0.91394\n",
      "[42]\tvalidation_0-rmse:0.91390\n",
      "[43]\tvalidation_0-rmse:0.91384\n",
      "[44]\tvalidation_0-rmse:0.91380\n",
      "[45]\tvalidation_0-rmse:0.91373\n",
      "[46]\tvalidation_0-rmse:0.91370\n",
      "[47]\tvalidation_0-rmse:0.91364\n",
      "[48]\tvalidation_0-rmse:0.91360\n",
      "[49]\tvalidation_0-rmse:0.91356\n",
      "[50]\tvalidation_0-rmse:0.91345\n",
      "[51]\tvalidation_0-rmse:0.91340\n",
      "[52]\tvalidation_0-rmse:0.91336\n",
      "[53]\tvalidation_0-rmse:0.91335\n",
      "[54]\tvalidation_0-rmse:0.91331\n",
      "[55]\tvalidation_0-rmse:0.91328\n",
      "[56]\tvalidation_0-rmse:0.91325\n",
      "[57]\tvalidation_0-rmse:0.91324\n",
      "[58]\tvalidation_0-rmse:0.91322\n",
      "[59]\tvalidation_0-rmse:0.91320\n",
      "[60]\tvalidation_0-rmse:0.91312\n",
      "[61]\tvalidation_0-rmse:0.91308\n",
      "[62]\tvalidation_0-rmse:0.91304\n",
      "[63]\tvalidation_0-rmse:0.91303\n",
      "[64]\tvalidation_0-rmse:0.91297\n",
      "[65]\tvalidation_0-rmse:0.91294\n",
      "[66]\tvalidation_0-rmse:0.91287\n",
      "[67]\tvalidation_0-rmse:0.91285\n",
      "[68]\tvalidation_0-rmse:0.91282\n",
      "[69]\tvalidation_0-rmse:0.91275\n",
      "[70]\tvalidation_0-rmse:0.91273\n",
      "[71]\tvalidation_0-rmse:0.91266\n",
      "[72]\tvalidation_0-rmse:0.91264\n",
      "[73]\tvalidation_0-rmse:0.91261\n",
      "[74]\tvalidation_0-rmse:0.91261\n",
      "[75]\tvalidation_0-rmse:0.91256\n",
      "[76]\tvalidation_0-rmse:0.91255\n",
      "[77]\tvalidation_0-rmse:0.91248\n",
      "[78]\tvalidation_0-rmse:0.91244\n",
      "[79]\tvalidation_0-rmse:0.91243\n",
      "[80]\tvalidation_0-rmse:0.91243\n",
      "[81]\tvalidation_0-rmse:0.91239\n",
      "[82]\tvalidation_0-rmse:0.91233\n",
      "[83]\tvalidation_0-rmse:0.91231\n",
      "[84]\tvalidation_0-rmse:0.91226\n",
      "[85]\tvalidation_0-rmse:0.91224\n",
      "[86]\tvalidation_0-rmse:0.91219\n",
      "[87]\tvalidation_0-rmse:0.91211\n",
      "[88]\tvalidation_0-rmse:0.91207\n",
      "[89]\tvalidation_0-rmse:0.91207\n",
      "[90]\tvalidation_0-rmse:0.91202\n",
      "[91]\tvalidation_0-rmse:0.91200\n",
      "[92]\tvalidation_0-rmse:0.91197\n",
      "[93]\tvalidation_0-rmse:0.91195\n",
      "[94]\tvalidation_0-rmse:0.91190\n",
      "[95]\tvalidation_0-rmse:0.91187\n",
      "[96]\tvalidation_0-rmse:0.91184\n",
      "[97]\tvalidation_0-rmse:0.91180\n",
      "[98]\tvalidation_0-rmse:0.91178\n",
      "[99]\tvalidation_0-rmse:0.91175\n",
      "[100]\tvalidation_0-rmse:0.91174\n",
      "[101]\tvalidation_0-rmse:0.91170\n",
      "[102]\tvalidation_0-rmse:0.91169\n",
      "[103]\tvalidation_0-rmse:0.91166\n",
      "[104]\tvalidation_0-rmse:0.91160\n",
      "[105]\tvalidation_0-rmse:0.91154\n",
      "[106]\tvalidation_0-rmse:0.91152\n",
      "[107]\tvalidation_0-rmse:0.91150\n",
      "[108]\tvalidation_0-rmse:0.91148\n",
      "[109]\tvalidation_0-rmse:0.91146\n",
      "[110]\tvalidation_0-rmse:0.91144\n",
      "[111]\tvalidation_0-rmse:0.91142\n",
      "[112]\tvalidation_0-rmse:0.91141\n",
      "[113]\tvalidation_0-rmse:0.91139\n",
      "[114]\tvalidation_0-rmse:0.91139\n",
      "[115]\tvalidation_0-rmse:0.91137\n",
      "[116]\tvalidation_0-rmse:0.91136\n",
      "[117]\tvalidation_0-rmse:0.91135\n",
      "[118]\tvalidation_0-rmse:0.91130\n",
      "[119]\tvalidation_0-rmse:0.91124\n",
      "[120]\tvalidation_0-rmse:0.91125\n",
      "[121]\tvalidation_0-rmse:0.91124\n",
      "[122]\tvalidation_0-rmse:0.91111\n",
      "[123]\tvalidation_0-rmse:0.91107\n",
      "[124]\tvalidation_0-rmse:0.91104\n",
      "[125]\tvalidation_0-rmse:0.91102\n",
      "[126]\tvalidation_0-rmse:0.91102\n",
      "[127]\tvalidation_0-rmse:0.91101\n",
      "[128]\tvalidation_0-rmse:0.91096\n",
      "[129]\tvalidation_0-rmse:0.91095\n",
      "[130]\tvalidation_0-rmse:0.91095\n",
      "[131]\tvalidation_0-rmse:0.91093\n",
      "[132]\tvalidation_0-rmse:0.91090\n",
      "[133]\tvalidation_0-rmse:0.91082\n",
      "[134]\tvalidation_0-rmse:0.91081\n",
      "[135]\tvalidation_0-rmse:0.91080\n",
      "[136]\tvalidation_0-rmse:0.91081\n",
      "[137]\tvalidation_0-rmse:0.91083\n",
      "[138]\tvalidation_0-rmse:0.91082\n",
      "[139]\tvalidation_0-rmse:0.91083\n",
      "[140]\tvalidation_0-rmse:0.91079\n",
      "[141]\tvalidation_0-rmse:0.91078\n",
      "[142]\tvalidation_0-rmse:0.91075\n",
      "[143]\tvalidation_0-rmse:0.91072\n",
      "[144]\tvalidation_0-rmse:0.91071\n",
      "[145]\tvalidation_0-rmse:0.91069\n",
      "[146]\tvalidation_0-rmse:0.91068\n",
      "[147]\tvalidation_0-rmse:0.91068\n",
      "[148]\tvalidation_0-rmse:0.91066\n",
      "[149]\tvalidation_0-rmse:0.91065\n",
      "[150]\tvalidation_0-rmse:0.91062\n",
      "[151]\tvalidation_0-rmse:0.91061\n",
      "[152]\tvalidation_0-rmse:0.91058\n",
      "[153]\tvalidation_0-rmse:0.91054\n",
      "[154]\tvalidation_0-rmse:0.91051\n",
      "[155]\tvalidation_0-rmse:0.91045\n",
      "[156]\tvalidation_0-rmse:0.91045\n",
      "[157]\tvalidation_0-rmse:0.91039\n",
      "[158]\tvalidation_0-rmse:0.91034\n",
      "[159]\tvalidation_0-rmse:0.91036\n",
      "[160]\tvalidation_0-rmse:0.91034\n",
      "[161]\tvalidation_0-rmse:0.91034\n",
      "[162]\tvalidation_0-rmse:0.91032\n",
      "[163]\tvalidation_0-rmse:0.91025\n",
      "[164]\tvalidation_0-rmse:0.91023\n",
      "[165]\tvalidation_0-rmse:0.91021\n",
      "[166]\tvalidation_0-rmse:0.91021\n",
      "[167]\tvalidation_0-rmse:0.91017\n",
      "[168]\tvalidation_0-rmse:0.91015\n",
      "[169]\tvalidation_0-rmse:0.91012\n",
      "[170]\tvalidation_0-rmse:0.91011\n",
      "[171]\tvalidation_0-rmse:0.91007\n",
      "[172]\tvalidation_0-rmse:0.91007\n",
      "[173]\tvalidation_0-rmse:0.91002\n",
      "[174]\tvalidation_0-rmse:0.91003\n",
      "[175]\tvalidation_0-rmse:0.90999\n",
      "[176]\tvalidation_0-rmse:0.90998\n",
      "[177]\tvalidation_0-rmse:0.90998\n",
      "[178]\tvalidation_0-rmse:0.90996\n",
      "[179]\tvalidation_0-rmse:0.90994\n",
      "[180]\tvalidation_0-rmse:0.90987\n",
      "[181]\tvalidation_0-rmse:0.90983\n",
      "[182]\tvalidation_0-rmse:0.90983\n",
      "[183]\tvalidation_0-rmse:0.90981\n",
      "[184]\tvalidation_0-rmse:0.90980\n",
      "[185]\tvalidation_0-rmse:0.90979\n",
      "[186]\tvalidation_0-rmse:0.90979\n",
      "[187]\tvalidation_0-rmse:0.90979\n",
      "[188]\tvalidation_0-rmse:0.90976\n",
      "[189]\tvalidation_0-rmse:0.90970\n",
      "[190]\tvalidation_0-rmse:0.90970\n",
      "[191]\tvalidation_0-rmse:0.90967\n",
      "[192]\tvalidation_0-rmse:0.90963\n",
      "[193]\tvalidation_0-rmse:0.90961\n",
      "[194]\tvalidation_0-rmse:0.90958\n",
      "[195]\tvalidation_0-rmse:0.90957\n",
      "[196]\tvalidation_0-rmse:0.90954\n",
      "[197]\tvalidation_0-rmse:0.90951\n",
      "[198]\tvalidation_0-rmse:0.90952\n",
      "[199]\tvalidation_0-rmse:0.90951\n",
      "[200]\tvalidation_0-rmse:0.90951\n",
      "[201]\tvalidation_0-rmse:0.90951\n",
      "[202]\tvalidation_0-rmse:0.90953\n",
      "[203]\tvalidation_0-rmse:0.90948\n",
      "[204]\tvalidation_0-rmse:0.90944\n",
      "[205]\tvalidation_0-rmse:0.90944\n",
      "[206]\tvalidation_0-rmse:0.90943\n",
      "[207]\tvalidation_0-rmse:0.90938\n",
      "[208]\tvalidation_0-rmse:0.90934\n",
      "[209]\tvalidation_0-rmse:0.90934\n",
      "[210]\tvalidation_0-rmse:0.90933\n",
      "[211]\tvalidation_0-rmse:0.90934\n",
      "[212]\tvalidation_0-rmse:0.90936\n",
      "[213]\tvalidation_0-rmse:0.90930\n",
      "[214]\tvalidation_0-rmse:0.90930\n",
      "[215]\tvalidation_0-rmse:0.90927\n",
      "[216]\tvalidation_0-rmse:0.90928\n",
      "[217]\tvalidation_0-rmse:0.90926\n",
      "[218]\tvalidation_0-rmse:0.90925\n",
      "[219]\tvalidation_0-rmse:0.90926\n",
      "[220]\tvalidation_0-rmse:0.90923\n",
      "[221]\tvalidation_0-rmse:0.90921\n",
      "[222]\tvalidation_0-rmse:0.90920\n",
      "[223]\tvalidation_0-rmse:0.90918\n",
      "[224]\tvalidation_0-rmse:0.90917\n",
      "[225]\tvalidation_0-rmse:0.90915\n",
      "[226]\tvalidation_0-rmse:0.90914\n",
      "[227]\tvalidation_0-rmse:0.90914\n",
      "[228]\tvalidation_0-rmse:0.90911\n",
      "[229]\tvalidation_0-rmse:0.90909\n",
      "[230]\tvalidation_0-rmse:0.90907\n",
      "[231]\tvalidation_0-rmse:0.90909\n",
      "[232]\tvalidation_0-rmse:0.90909\n",
      "[233]\tvalidation_0-rmse:0.90911\n",
      "[234]\tvalidation_0-rmse:0.90912\n",
      "[235]\tvalidation_0-rmse:0.90909\n",
      "[236]\tvalidation_0-rmse:0.90908\n"
     ]
    },
    {
     "data": {
      "text/plain": [
       "XGBRegressor(base_score=0.5, booster='gbtree', colsample_bylevel=1,\n",
       "             colsample_bynode=1, colsample_bytree=1, enable_categorical=False,\n",
       "             feature_fraction=0.6, gamma=0, gpu_id=0, importance_type=None,\n",
       "             interaction_constraints='', learning_rate=0.1, max_delta_step=0,\n",
       "             max_depth=8, min_child_weight=1, missing=nan,\n",
       "             monotone_constraints='()', n_estimators=1000, n_jobs=2,\n",
       "             num_leaves=64, num_parallel_tree=1, predictor='auto',\n",
       "             random_state=2022, reg_alpha=0.1, reg_lambda=0.1,\n",
       "             scale_pos_weight=1, subsample=0.8, tree_learner='serial',\n",
       "             tree_method='gpu_hist', validate_parameters=1, ...)"
      ]
     },
     "execution_count": 9,
     "metadata": {},
     "output_type": "execute_result"
    }
   ],
   "source": [
    "regressor=xgb.XGBRegressor(\n",
    "                 tree_learner='serial',\n",
    "                 n_estimators=1000,\n",
    "                 num_leaves=64,\n",
    "                 max_depth=8,\n",
    "                 learning_rate=0.1,\n",
    "                 subsample=0.8,\n",
    "                 feature_fraction=0.6,\n",
    "                 reg_alpha=0.1,\n",
    "                 reg_lambda=0.1,\n",
    "                 random_state=2022,\n",
    "                 tree_method='gpu_hist' )\n",
    "regressor.fit(X_train, y_train, early_stopping_rounds=6, eval_set=[(X_test, y_test)], verbose=1)\n"
   ]
  },
  {
   "cell_type": "code",
   "execution_count": 10,
   "id": "3f1fcdc2",
   "metadata": {
    "execution": {
     "iopub.execute_input": "2022-02-02T12:17:07.197629Z",
     "iopub.status.busy": "2022-02-02T12:17:07.197081Z",
     "iopub.status.idle": "2022-02-02T12:17:07.277095Z",
     "shell.execute_reply": "2022-02-02T12:17:07.277832Z",
     "shell.execute_reply.started": "2022-02-02T12:11:33.916270Z"
    },
    "papermill": {
     "duration": 0.154551,
     "end_time": "2022-02-02T12:17:07.277989",
     "exception": false,
     "start_time": "2022-02-02T12:17:07.123438",
     "status": "completed"
    },
    "tags": []
   },
   "outputs": [
    {
     "name": "stdout",
     "output_type": "stream",
     "text": [
      "This version of the API is not optimized and should not be used to estimate the runtime of your code on the hidden test set.\n"
     ]
    }
   ],
   "source": [
    "import ubiquant\n",
    "env = ubiquant.make_env()\n",
    "iter_test = env.iter_test()\n",
    "for (test_df, sample_prediction_df) in iter_test:\n",
    "    preds = regressor.predict(test_df[features].values)\n",
    "    sample_prediction_df['target'] = preds\n",
    "    env.predict(sample_prediction_df)"
   ]
  },
  {
   "cell_type": "code",
   "execution_count": 11,
   "id": "15d27a76",
   "metadata": {
    "execution": {
     "iopub.execute_input": "2022-02-02T12:17:07.424600Z",
     "iopub.status.busy": "2022-02-02T12:17:07.423904Z",
     "iopub.status.idle": "2022-02-02T12:17:07.434059Z",
     "shell.execute_reply": "2022-02-02T12:17:07.433638Z",
     "shell.execute_reply.started": "2022-02-02T12:11:37.625783Z"
    },
    "papermill": {
     "duration": 0.085209,
     "end_time": "2022-02-02T12:17:07.434162",
     "exception": false,
     "start_time": "2022-02-02T12:17:07.348953",
     "status": "completed"
    },
    "tags": []
   },
   "outputs": [
    {
     "data": {
      "text/html": [
       "<div>\n",
       "<style scoped>\n",
       "    .dataframe tbody tr th:only-of-type {\n",
       "        vertical-align: middle;\n",
       "    }\n",
       "\n",
       "    .dataframe tbody tr th {\n",
       "        vertical-align: top;\n",
       "    }\n",
       "\n",
       "    .dataframe thead th {\n",
       "        text-align: right;\n",
       "    }\n",
       "</style>\n",
       "<table border=\"1\" class=\"dataframe\">\n",
       "  <thead>\n",
       "    <tr style=\"text-align: right;\">\n",
       "      <th></th>\n",
       "      <th>row_id</th>\n",
       "      <th>target</th>\n",
       "    </tr>\n",
       "  </thead>\n",
       "  <tbody>\n",
       "    <tr>\n",
       "      <th>0</th>\n",
       "      <td>1223_0</td>\n",
       "      <td>-0.13204</td>\n",
       "    </tr>\n",
       "  </tbody>\n",
       "</table>\n",
       "</div>"
      ],
      "text/plain": [
       "   row_id   target\n",
       "0  1223_0 -0.13204"
      ]
     },
     "execution_count": 11,
     "metadata": {},
     "output_type": "execute_result"
    }
   ],
   "source": [
    "sample_prediction_df"
   ]
  }
 ],
 "metadata": {
  "kernelspec": {
   "display_name": "Python 3",
   "language": "python",
   "name": "python3"
  },
  "language_info": {
   "codemirror_mode": {
    "name": "ipython",
    "version": 3
   },
   "file_extension": ".py",
   "mimetype": "text/x-python",
   "name": "python",
   "nbconvert_exporter": "python",
   "pygments_lexer": "ipython3",
   "version": "3.7.12"
  },
  "papermill": {
   "default_parameters": {},
   "duration": 305.824461,
   "end_time": "2022-02-02T12:17:09.017097",
   "environment_variables": {},
   "exception": null,
   "input_path": "__notebook__.ipynb",
   "output_path": "__notebook__.ipynb",
   "parameters": {},
   "start_time": "2022-02-02T12:12:03.192636",
   "version": "2.3.3"
  }
 },
 "nbformat": 4,
 "nbformat_minor": 5
}
